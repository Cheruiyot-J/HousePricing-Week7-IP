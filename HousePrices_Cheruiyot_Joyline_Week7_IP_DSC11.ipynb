{
  "nbformat": 4,
  "nbformat_minor": 0,
  "metadata": {
    "colab": {
      "name": "HousePrices-Cheruiyot-Joyline-Week7-IP DSC11",
      "provenance": [],
      "collapsed_sections": [
        "ZTQ5FUajel5D"
      ]
    },
    "kernelspec": {
      "name": "python3",
      "display_name": "Python 3"
    },
    "language_info": {
      "name": "python"
    }
  },
  "cells": [
    {
      "cell_type": "markdown",
      "metadata": {
        "id": "ZTQ5FUajel5D"
      },
      "source": [
        "###Defining the Question"
      ]
    },
    {
      "cell_type": "markdown",
      "metadata": {
        "id": "z3nTO4H9ellI"
      },
      "source": [
        "####a. Specifying the Question"
      ]
    },
    {
      "cell_type": "markdown",
      "metadata": {
        "id": "NI5cFbhF5O2q"
      },
      "source": [
        "######This is a study for the factors that affect housing prices using the data on a real estate property then creating a model that would allow the company to accurately predict the sale of prices upon being provided with the predictor variables."
      ]
    },
    {
      "cell_type": "markdown",
      "metadata": {
        "id": "n38v0IPCe8U3"
      },
      "source": [
        "####b.Defining the metricfor success."
      ]
    },
    {
      "cell_type": "markdown",
      "metadata": {
        "id": "povCTTcQ830t"
      },
      "source": [
        "######We'll consider our model a success when it is able to accurately predict the respective prices and have a significantly correct accuracy when evaluated"
      ]
    },
    {
      "cell_type": "markdown",
      "metadata": {
        "id": "OstLOWwpfEJq"
      },
      "source": [
        "####c. Understanding the context."
      ]
    },
    {
      "cell_type": "markdown",
      "metadata": {
        "id": "NnKJZG229R4t"
      },
      "source": [
        "######Hass Consulting Company is a real estate leader company that does house prices consultation services to clients. They do researches on how to price houses in different locations in the US and need this research as a guide to future house pricing prediction."
      ]
    },
    {
      "cell_type": "markdown",
      "metadata": {
        "id": "nqZuY6VZf040"
      },
      "source": [
        "####d. Recording the Experimental Design"
      ]
    },
    {
      "cell_type": "markdown",
      "metadata": {
        "id": "yCZCI72--IEJ"
      },
      "source": [
        "\n",
        "\n",
        "1.   Perform Data Cleaning\n",
        "2.   Performing EDA.\n",
        "3.   Perform Feature Enginnering\n",
        "4.   Check for multicollinearity\n",
        "5.   Build model\n",
        "6.   Calculate MSEs and R square\n",
        "7.   Create residual plot and assess heteroskedasticity.\n",
        "\n"
      ]
    },
    {
      "cell_type": "markdown",
      "metadata": {
        "id": "tf7aA7XngFiD"
      },
      "source": [
        "####e. Data Relevance."
      ]
    },
    {
      "cell_type": "markdown",
      "metadata": {
        "id": "vI5DpMZG-2YZ"
      },
      "source": [
        "######The data was collected by Hass Consulting Comapany for the study from regions of their business focus and on houses they concentrate on working on. The provided data is relevant enough for the research."
      ]
    },
    {
      "cell_type": "markdown",
      "metadata": {
        "id": "zMz6oXw2gWfS"
      },
      "source": [
        "####f. Appropriateness of Data"
      ]
    },
    {
      "cell_type": "markdown",
      "metadata": {
        "id": "gsdGzNrK_ZHu"
      },
      "source": [
        "######The provided data is appropriate except that it had a few outliers that were eradicated. The outliers were not that much to cause a big effect on the research"
      ]
    },
    {
      "cell_type": "markdown",
      "metadata": {
        "id": "qRiBbneahNIQ"
      },
      "source": [
        "###Importing Data"
      ]
    },
    {
      "cell_type": "code",
      "metadata": {
        "id": "6ceakp8Vcokk"
      },
      "source": [
        "#importing libraries\n",
        "import numpy as np\n",
        "import pandas as pd\n",
        "import matplotlib.pyplot as plt\n",
        "from sklearn import metrics\n",
        "from sklearn import linear_model\n",
        "from sklearn.model_selection import train_test_split\n",
        "from sklearn.linear_model import LinearRegression\n",
        "import statsmodels.formula.api as smf\n",
        "from sklearn.linear_model import ElasticNet\n",
        "from sklearn.model_selection import GridSearchCV\n",
        "from sklearn.preprocessing import StandardScaler\n",
        "import scipy as sp\n",
        "import seaborn as sns\n",
        "\n"
      ],
      "execution_count": null,
      "outputs": []
    },
    {
      "cell_type": "code",
      "metadata": {
        "id": "cHKXhJ8ghiuj",
        "colab": {
          "base_uri": "https://localhost:8080/",
          "height": 439
        },
        "outputId": "ee96af06-d805-46d1-a343-549353654cd3"
      },
      "source": [
        "#importing data\n",
        "house_prices = pd.read_csv('http://bit.ly/IndependentProjectWeek7Dataset')\n",
        "house_prices"
      ],
      "execution_count": null,
      "outputs": [
        {
          "output_type": "execute_result",
          "data": {
            "text/html": [
              "<div>\n",
              "<style scoped>\n",
              "    .dataframe tbody tr th:only-of-type {\n",
              "        vertical-align: middle;\n",
              "    }\n",
              "\n",
              "    .dataframe tbody tr th {\n",
              "        vertical-align: top;\n",
              "    }\n",
              "\n",
              "    .dataframe thead th {\n",
              "        text-align: right;\n",
              "    }\n",
              "</style>\n",
              "<table border=\"1\" class=\"dataframe\">\n",
              "  <thead>\n",
              "    <tr style=\"text-align: right;\">\n",
              "      <th></th>\n",
              "      <th>id</th>\n",
              "      <th>price</th>\n",
              "      <th>bedrooms</th>\n",
              "      <th>bathrooms</th>\n",
              "      <th>sqft_living</th>\n",
              "      <th>sqft_lot</th>\n",
              "      <th>floors</th>\n",
              "      <th>waterfront</th>\n",
              "      <th>view</th>\n",
              "      <th>condition</th>\n",
              "      <th>grade</th>\n",
              "      <th>sqft_above</th>\n",
              "      <th>sqft_basement</th>\n",
              "      <th>yr_built</th>\n",
              "      <th>yr_renovated</th>\n",
              "      <th>zipcode</th>\n",
              "      <th>lat</th>\n",
              "      <th>long</th>\n",
              "      <th>sqft_living15</th>\n",
              "      <th>sqft_lot15</th>\n",
              "    </tr>\n",
              "  </thead>\n",
              "  <tbody>\n",
              "    <tr>\n",
              "      <th>0</th>\n",
              "      <td>7129300520</td>\n",
              "      <td>221900.0</td>\n",
              "      <td>3</td>\n",
              "      <td>1.00</td>\n",
              "      <td>1180</td>\n",
              "      <td>5650</td>\n",
              "      <td>1.0</td>\n",
              "      <td>0</td>\n",
              "      <td>0</td>\n",
              "      <td>3</td>\n",
              "      <td>7</td>\n",
              "      <td>1180</td>\n",
              "      <td>0</td>\n",
              "      <td>1955</td>\n",
              "      <td>0</td>\n",
              "      <td>98178</td>\n",
              "      <td>47.5112</td>\n",
              "      <td>-122.257</td>\n",
              "      <td>1340</td>\n",
              "      <td>5650</td>\n",
              "    </tr>\n",
              "    <tr>\n",
              "      <th>1</th>\n",
              "      <td>6414100192</td>\n",
              "      <td>538000.0</td>\n",
              "      <td>3</td>\n",
              "      <td>2.25</td>\n",
              "      <td>2570</td>\n",
              "      <td>7242</td>\n",
              "      <td>2.0</td>\n",
              "      <td>0</td>\n",
              "      <td>0</td>\n",
              "      <td>3</td>\n",
              "      <td>7</td>\n",
              "      <td>2170</td>\n",
              "      <td>400</td>\n",
              "      <td>1951</td>\n",
              "      <td>1991</td>\n",
              "      <td>98125</td>\n",
              "      <td>47.7210</td>\n",
              "      <td>-122.319</td>\n",
              "      <td>1690</td>\n",
              "      <td>7639</td>\n",
              "    </tr>\n",
              "    <tr>\n",
              "      <th>2</th>\n",
              "      <td>5631500400</td>\n",
              "      <td>180000.0</td>\n",
              "      <td>2</td>\n",
              "      <td>1.00</td>\n",
              "      <td>770</td>\n",
              "      <td>10000</td>\n",
              "      <td>1.0</td>\n",
              "      <td>0</td>\n",
              "      <td>0</td>\n",
              "      <td>3</td>\n",
              "      <td>6</td>\n",
              "      <td>770</td>\n",
              "      <td>0</td>\n",
              "      <td>1933</td>\n",
              "      <td>0</td>\n",
              "      <td>98028</td>\n",
              "      <td>47.7379</td>\n",
              "      <td>-122.233</td>\n",
              "      <td>2720</td>\n",
              "      <td>8062</td>\n",
              "    </tr>\n",
              "    <tr>\n",
              "      <th>3</th>\n",
              "      <td>2487200875</td>\n",
              "      <td>604000.0</td>\n",
              "      <td>4</td>\n",
              "      <td>3.00</td>\n",
              "      <td>1960</td>\n",
              "      <td>5000</td>\n",
              "      <td>1.0</td>\n",
              "      <td>0</td>\n",
              "      <td>0</td>\n",
              "      <td>5</td>\n",
              "      <td>7</td>\n",
              "      <td>1050</td>\n",
              "      <td>910</td>\n",
              "      <td>1965</td>\n",
              "      <td>0</td>\n",
              "      <td>98136</td>\n",
              "      <td>47.5208</td>\n",
              "      <td>-122.393</td>\n",
              "      <td>1360</td>\n",
              "      <td>5000</td>\n",
              "    </tr>\n",
              "    <tr>\n",
              "      <th>4</th>\n",
              "      <td>1954400510</td>\n",
              "      <td>510000.0</td>\n",
              "      <td>3</td>\n",
              "      <td>2.00</td>\n",
              "      <td>1680</td>\n",
              "      <td>8080</td>\n",
              "      <td>1.0</td>\n",
              "      <td>0</td>\n",
              "      <td>0</td>\n",
              "      <td>3</td>\n",
              "      <td>8</td>\n",
              "      <td>1680</td>\n",
              "      <td>0</td>\n",
              "      <td>1987</td>\n",
              "      <td>0</td>\n",
              "      <td>98074</td>\n",
              "      <td>47.6168</td>\n",
              "      <td>-122.045</td>\n",
              "      <td>1800</td>\n",
              "      <td>7503</td>\n",
              "    </tr>\n",
              "    <tr>\n",
              "      <th>...</th>\n",
              "      <td>...</td>\n",
              "      <td>...</td>\n",
              "      <td>...</td>\n",
              "      <td>...</td>\n",
              "      <td>...</td>\n",
              "      <td>...</td>\n",
              "      <td>...</td>\n",
              "      <td>...</td>\n",
              "      <td>...</td>\n",
              "      <td>...</td>\n",
              "      <td>...</td>\n",
              "      <td>...</td>\n",
              "      <td>...</td>\n",
              "      <td>...</td>\n",
              "      <td>...</td>\n",
              "      <td>...</td>\n",
              "      <td>...</td>\n",
              "      <td>...</td>\n",
              "      <td>...</td>\n",
              "      <td>...</td>\n",
              "    </tr>\n",
              "    <tr>\n",
              "      <th>21608</th>\n",
              "      <td>263000018</td>\n",
              "      <td>360000.0</td>\n",
              "      <td>3</td>\n",
              "      <td>2.50</td>\n",
              "      <td>1530</td>\n",
              "      <td>1131</td>\n",
              "      <td>3.0</td>\n",
              "      <td>0</td>\n",
              "      <td>0</td>\n",
              "      <td>3</td>\n",
              "      <td>8</td>\n",
              "      <td>1530</td>\n",
              "      <td>0</td>\n",
              "      <td>2009</td>\n",
              "      <td>0</td>\n",
              "      <td>98103</td>\n",
              "      <td>47.6993</td>\n",
              "      <td>-122.346</td>\n",
              "      <td>1530</td>\n",
              "      <td>1509</td>\n",
              "    </tr>\n",
              "    <tr>\n",
              "      <th>21609</th>\n",
              "      <td>6600060120</td>\n",
              "      <td>400000.0</td>\n",
              "      <td>4</td>\n",
              "      <td>2.50</td>\n",
              "      <td>2310</td>\n",
              "      <td>5813</td>\n",
              "      <td>2.0</td>\n",
              "      <td>0</td>\n",
              "      <td>0</td>\n",
              "      <td>3</td>\n",
              "      <td>8</td>\n",
              "      <td>2310</td>\n",
              "      <td>0</td>\n",
              "      <td>2014</td>\n",
              "      <td>0</td>\n",
              "      <td>98146</td>\n",
              "      <td>47.5107</td>\n",
              "      <td>-122.362</td>\n",
              "      <td>1830</td>\n",
              "      <td>7200</td>\n",
              "    </tr>\n",
              "    <tr>\n",
              "      <th>21610</th>\n",
              "      <td>1523300141</td>\n",
              "      <td>402101.0</td>\n",
              "      <td>2</td>\n",
              "      <td>0.75</td>\n",
              "      <td>1020</td>\n",
              "      <td>1350</td>\n",
              "      <td>2.0</td>\n",
              "      <td>0</td>\n",
              "      <td>0</td>\n",
              "      <td>3</td>\n",
              "      <td>7</td>\n",
              "      <td>1020</td>\n",
              "      <td>0</td>\n",
              "      <td>2009</td>\n",
              "      <td>0</td>\n",
              "      <td>98144</td>\n",
              "      <td>47.5944</td>\n",
              "      <td>-122.299</td>\n",
              "      <td>1020</td>\n",
              "      <td>2007</td>\n",
              "    </tr>\n",
              "    <tr>\n",
              "      <th>21611</th>\n",
              "      <td>291310100</td>\n",
              "      <td>400000.0</td>\n",
              "      <td>3</td>\n",
              "      <td>2.50</td>\n",
              "      <td>1600</td>\n",
              "      <td>2388</td>\n",
              "      <td>2.0</td>\n",
              "      <td>0</td>\n",
              "      <td>0</td>\n",
              "      <td>3</td>\n",
              "      <td>8</td>\n",
              "      <td>1600</td>\n",
              "      <td>0</td>\n",
              "      <td>2004</td>\n",
              "      <td>0</td>\n",
              "      <td>98027</td>\n",
              "      <td>47.5345</td>\n",
              "      <td>-122.069</td>\n",
              "      <td>1410</td>\n",
              "      <td>1287</td>\n",
              "    </tr>\n",
              "    <tr>\n",
              "      <th>21612</th>\n",
              "      <td>1523300157</td>\n",
              "      <td>325000.0</td>\n",
              "      <td>2</td>\n",
              "      <td>0.75</td>\n",
              "      <td>1020</td>\n",
              "      <td>1076</td>\n",
              "      <td>2.0</td>\n",
              "      <td>0</td>\n",
              "      <td>0</td>\n",
              "      <td>3</td>\n",
              "      <td>7</td>\n",
              "      <td>1020</td>\n",
              "      <td>0</td>\n",
              "      <td>2008</td>\n",
              "      <td>0</td>\n",
              "      <td>98144</td>\n",
              "      <td>47.5941</td>\n",
              "      <td>-122.299</td>\n",
              "      <td>1020</td>\n",
              "      <td>1357</td>\n",
              "    </tr>\n",
              "  </tbody>\n",
              "</table>\n",
              "<p>21613 rows × 20 columns</p>\n",
              "</div>"
            ],
            "text/plain": [
              "               id     price  bedrooms  ...     long  sqft_living15  sqft_lot15\n",
              "0      7129300520  221900.0         3  ... -122.257           1340        5650\n",
              "1      6414100192  538000.0         3  ... -122.319           1690        7639\n",
              "2      5631500400  180000.0         2  ... -122.233           2720        8062\n",
              "3      2487200875  604000.0         4  ... -122.393           1360        5000\n",
              "4      1954400510  510000.0         3  ... -122.045           1800        7503\n",
              "...           ...       ...       ...  ...      ...            ...         ...\n",
              "21608   263000018  360000.0         3  ... -122.346           1530        1509\n",
              "21609  6600060120  400000.0         4  ... -122.362           1830        7200\n",
              "21610  1523300141  402101.0         2  ... -122.299           1020        2007\n",
              "21611   291310100  400000.0         3  ... -122.069           1410        1287\n",
              "21612  1523300157  325000.0         2  ... -122.299           1020        1357\n",
              "\n",
              "[21613 rows x 20 columns]"
            ]
          },
          "metadata": {},
          "execution_count": 4
        }
      ]
    },
    {
      "cell_type": "code",
      "metadata": {
        "colab": {
          "base_uri": "https://localhost:8080/"
        },
        "id": "-8cfrN4bbGnV",
        "outputId": "6766dab0-5e6f-47ae-fc77-a43f3e2f6d09"
      },
      "source": [
        "house_prices.grade.nunique()"
      ],
      "execution_count": null,
      "outputs": [
        {
          "output_type": "execute_result",
          "data": {
            "text/plain": [
              "12"
            ]
          },
          "metadata": {},
          "execution_count": 5
        }
      ]
    },
    {
      "cell_type": "code",
      "metadata": {
        "id": "lVah0RzeY7Tu"
      },
      "source": [
        "#pip install zipcodes\n"
      ],
      "execution_count": null,
      "outputs": []
    },
    {
      "cell_type": "code",
      "metadata": {
        "id": "I5VUSSjkYqYZ"
      },
      "source": [
        "#from pprint import pprint\n",
        "#import zipcodes\n",
        "#for i, row in house_prices.iterrows():\n",
        "#  zip_code = house_prices.loc[i,'zipcode']\n",
        "#  zip_code=zip_code.astype(int)\n",
        "#  zip_code=zip_code.astype(str)\n",
        "#  house_prices.loc[i,'city'] = zipcodes.matching(zip_code)[0][\"city\"]\n",
        "#  house_prices.loc[i,'county'] = zipcodes.matching(zip_code)[0]['county']  \n",
        "        \n",
        "#house_prices.tail()"
      ],
      "execution_count": null,
      "outputs": []
    },
    {
      "cell_type": "code",
      "metadata": {
        "id": "nD87plEShjTk",
        "colab": {
          "base_uri": "https://localhost:8080/"
        },
        "outputId": "672ac233-e737-4266-eb8e-c003aa69cdd9"
      },
      "source": [
        "#checking on data\n",
        "print(house_prices.shape)"
      ],
      "execution_count": null,
      "outputs": [
        {
          "output_type": "stream",
          "name": "stdout",
          "text": [
            "(21613, 20)\n"
          ]
        }
      ]
    },
    {
      "cell_type": "code",
      "metadata": {
        "id": "XWYTFqFjhj4j",
        "colab": {
          "base_uri": "https://localhost:8080/"
        },
        "outputId": "935536b4-056e-4253-e7c4-dafc976c900a"
      },
      "source": [
        "#data types\n",
        "house_prices.dtypes"
      ],
      "execution_count": null,
      "outputs": [
        {
          "output_type": "execute_result",
          "data": {
            "text/plain": [
              "id                 int64\n",
              "price            float64\n",
              "bedrooms           int64\n",
              "bathrooms        float64\n",
              "sqft_living        int64\n",
              "sqft_lot           int64\n",
              "floors           float64\n",
              "waterfront         int64\n",
              "view               int64\n",
              "condition          int64\n",
              "grade              int64\n",
              "sqft_above         int64\n",
              "sqft_basement      int64\n",
              "yr_built           int64\n",
              "yr_renovated       int64\n",
              "zipcode            int64\n",
              "lat              float64\n",
              "long             float64\n",
              "sqft_living15      int64\n",
              "sqft_lot15         int64\n",
              "dtype: object"
            ]
          },
          "metadata": {},
          "execution_count": 9
        }
      ]
    },
    {
      "cell_type": "code",
      "metadata": {
        "id": "fxXtWdCDhkY-",
        "colab": {
          "base_uri": "https://localhost:8080/",
          "height": 317
        },
        "outputId": "43bced75-e0b3-42bf-8372-be537dce9c00"
      },
      "source": [
        "#description\n",
        "house_prices.describe()"
      ],
      "execution_count": null,
      "outputs": [
        {
          "output_type": "execute_result",
          "data": {
            "text/html": [
              "<div>\n",
              "<style scoped>\n",
              "    .dataframe tbody tr th:only-of-type {\n",
              "        vertical-align: middle;\n",
              "    }\n",
              "\n",
              "    .dataframe tbody tr th {\n",
              "        vertical-align: top;\n",
              "    }\n",
              "\n",
              "    .dataframe thead th {\n",
              "        text-align: right;\n",
              "    }\n",
              "</style>\n",
              "<table border=\"1\" class=\"dataframe\">\n",
              "  <thead>\n",
              "    <tr style=\"text-align: right;\">\n",
              "      <th></th>\n",
              "      <th>id</th>\n",
              "      <th>price</th>\n",
              "      <th>bedrooms</th>\n",
              "      <th>bathrooms</th>\n",
              "      <th>sqft_living</th>\n",
              "      <th>sqft_lot</th>\n",
              "      <th>floors</th>\n",
              "      <th>waterfront</th>\n",
              "      <th>view</th>\n",
              "      <th>condition</th>\n",
              "      <th>grade</th>\n",
              "      <th>sqft_above</th>\n",
              "      <th>sqft_basement</th>\n",
              "      <th>yr_built</th>\n",
              "      <th>yr_renovated</th>\n",
              "      <th>zipcode</th>\n",
              "      <th>lat</th>\n",
              "      <th>long</th>\n",
              "      <th>sqft_living15</th>\n",
              "      <th>sqft_lot15</th>\n",
              "    </tr>\n",
              "  </thead>\n",
              "  <tbody>\n",
              "    <tr>\n",
              "      <th>count</th>\n",
              "      <td>2.161300e+04</td>\n",
              "      <td>2.161300e+04</td>\n",
              "      <td>21613.000000</td>\n",
              "      <td>21613.000000</td>\n",
              "      <td>21613.000000</td>\n",
              "      <td>2.161300e+04</td>\n",
              "      <td>21613.000000</td>\n",
              "      <td>21613.000000</td>\n",
              "      <td>21613.000000</td>\n",
              "      <td>21613.000000</td>\n",
              "      <td>21613.000000</td>\n",
              "      <td>21613.000000</td>\n",
              "      <td>21613.000000</td>\n",
              "      <td>21613.000000</td>\n",
              "      <td>21613.000000</td>\n",
              "      <td>21613.000000</td>\n",
              "      <td>21613.000000</td>\n",
              "      <td>21613.000000</td>\n",
              "      <td>21613.000000</td>\n",
              "      <td>21613.000000</td>\n",
              "    </tr>\n",
              "    <tr>\n",
              "      <th>mean</th>\n",
              "      <td>4.580302e+09</td>\n",
              "      <td>5.401822e+05</td>\n",
              "      <td>3.370842</td>\n",
              "      <td>2.114757</td>\n",
              "      <td>2079.899736</td>\n",
              "      <td>1.510697e+04</td>\n",
              "      <td>1.494309</td>\n",
              "      <td>0.007542</td>\n",
              "      <td>0.234303</td>\n",
              "      <td>3.409430</td>\n",
              "      <td>7.656873</td>\n",
              "      <td>1788.390691</td>\n",
              "      <td>291.509045</td>\n",
              "      <td>1971.005136</td>\n",
              "      <td>84.402258</td>\n",
              "      <td>98077.939805</td>\n",
              "      <td>47.560053</td>\n",
              "      <td>-122.213896</td>\n",
              "      <td>1986.552492</td>\n",
              "      <td>12768.455652</td>\n",
              "    </tr>\n",
              "    <tr>\n",
              "      <th>std</th>\n",
              "      <td>2.876566e+09</td>\n",
              "      <td>3.673622e+05</td>\n",
              "      <td>0.930062</td>\n",
              "      <td>0.770163</td>\n",
              "      <td>918.440897</td>\n",
              "      <td>4.142051e+04</td>\n",
              "      <td>0.539989</td>\n",
              "      <td>0.086517</td>\n",
              "      <td>0.766318</td>\n",
              "      <td>0.650743</td>\n",
              "      <td>1.175459</td>\n",
              "      <td>828.090978</td>\n",
              "      <td>442.575043</td>\n",
              "      <td>29.373411</td>\n",
              "      <td>401.679240</td>\n",
              "      <td>53.505026</td>\n",
              "      <td>0.138564</td>\n",
              "      <td>0.140828</td>\n",
              "      <td>685.391304</td>\n",
              "      <td>27304.179631</td>\n",
              "    </tr>\n",
              "    <tr>\n",
              "      <th>min</th>\n",
              "      <td>1.000102e+06</td>\n",
              "      <td>7.500000e+04</td>\n",
              "      <td>0.000000</td>\n",
              "      <td>0.000000</td>\n",
              "      <td>290.000000</td>\n",
              "      <td>5.200000e+02</td>\n",
              "      <td>1.000000</td>\n",
              "      <td>0.000000</td>\n",
              "      <td>0.000000</td>\n",
              "      <td>1.000000</td>\n",
              "      <td>1.000000</td>\n",
              "      <td>290.000000</td>\n",
              "      <td>0.000000</td>\n",
              "      <td>1900.000000</td>\n",
              "      <td>0.000000</td>\n",
              "      <td>98001.000000</td>\n",
              "      <td>47.155900</td>\n",
              "      <td>-122.519000</td>\n",
              "      <td>399.000000</td>\n",
              "      <td>651.000000</td>\n",
              "    </tr>\n",
              "    <tr>\n",
              "      <th>25%</th>\n",
              "      <td>2.123049e+09</td>\n",
              "      <td>3.219500e+05</td>\n",
              "      <td>3.000000</td>\n",
              "      <td>1.750000</td>\n",
              "      <td>1427.000000</td>\n",
              "      <td>5.040000e+03</td>\n",
              "      <td>1.000000</td>\n",
              "      <td>0.000000</td>\n",
              "      <td>0.000000</td>\n",
              "      <td>3.000000</td>\n",
              "      <td>7.000000</td>\n",
              "      <td>1190.000000</td>\n",
              "      <td>0.000000</td>\n",
              "      <td>1951.000000</td>\n",
              "      <td>0.000000</td>\n",
              "      <td>98033.000000</td>\n",
              "      <td>47.471000</td>\n",
              "      <td>-122.328000</td>\n",
              "      <td>1490.000000</td>\n",
              "      <td>5100.000000</td>\n",
              "    </tr>\n",
              "    <tr>\n",
              "      <th>50%</th>\n",
              "      <td>3.904930e+09</td>\n",
              "      <td>4.500000e+05</td>\n",
              "      <td>3.000000</td>\n",
              "      <td>2.250000</td>\n",
              "      <td>1910.000000</td>\n",
              "      <td>7.618000e+03</td>\n",
              "      <td>1.500000</td>\n",
              "      <td>0.000000</td>\n",
              "      <td>0.000000</td>\n",
              "      <td>3.000000</td>\n",
              "      <td>7.000000</td>\n",
              "      <td>1560.000000</td>\n",
              "      <td>0.000000</td>\n",
              "      <td>1975.000000</td>\n",
              "      <td>0.000000</td>\n",
              "      <td>98065.000000</td>\n",
              "      <td>47.571800</td>\n",
              "      <td>-122.230000</td>\n",
              "      <td>1840.000000</td>\n",
              "      <td>7620.000000</td>\n",
              "    </tr>\n",
              "    <tr>\n",
              "      <th>75%</th>\n",
              "      <td>7.308900e+09</td>\n",
              "      <td>6.450000e+05</td>\n",
              "      <td>4.000000</td>\n",
              "      <td>2.500000</td>\n",
              "      <td>2550.000000</td>\n",
              "      <td>1.068800e+04</td>\n",
              "      <td>2.000000</td>\n",
              "      <td>0.000000</td>\n",
              "      <td>0.000000</td>\n",
              "      <td>4.000000</td>\n",
              "      <td>8.000000</td>\n",
              "      <td>2210.000000</td>\n",
              "      <td>560.000000</td>\n",
              "      <td>1997.000000</td>\n",
              "      <td>0.000000</td>\n",
              "      <td>98118.000000</td>\n",
              "      <td>47.678000</td>\n",
              "      <td>-122.125000</td>\n",
              "      <td>2360.000000</td>\n",
              "      <td>10083.000000</td>\n",
              "    </tr>\n",
              "    <tr>\n",
              "      <th>max</th>\n",
              "      <td>9.900000e+09</td>\n",
              "      <td>7.700000e+06</td>\n",
              "      <td>33.000000</td>\n",
              "      <td>8.000000</td>\n",
              "      <td>13540.000000</td>\n",
              "      <td>1.651359e+06</td>\n",
              "      <td>3.500000</td>\n",
              "      <td>1.000000</td>\n",
              "      <td>4.000000</td>\n",
              "      <td>5.000000</td>\n",
              "      <td>13.000000</td>\n",
              "      <td>9410.000000</td>\n",
              "      <td>4820.000000</td>\n",
              "      <td>2015.000000</td>\n",
              "      <td>2015.000000</td>\n",
              "      <td>98199.000000</td>\n",
              "      <td>47.777600</td>\n",
              "      <td>-121.315000</td>\n",
              "      <td>6210.000000</td>\n",
              "      <td>871200.000000</td>\n",
              "    </tr>\n",
              "  </tbody>\n",
              "</table>\n",
              "</div>"
            ],
            "text/plain": [
              "                 id         price  ...  sqft_living15     sqft_lot15\n",
              "count  2.161300e+04  2.161300e+04  ...   21613.000000   21613.000000\n",
              "mean   4.580302e+09  5.401822e+05  ...    1986.552492   12768.455652\n",
              "std    2.876566e+09  3.673622e+05  ...     685.391304   27304.179631\n",
              "min    1.000102e+06  7.500000e+04  ...     399.000000     651.000000\n",
              "25%    2.123049e+09  3.219500e+05  ...    1490.000000    5100.000000\n",
              "50%    3.904930e+09  4.500000e+05  ...    1840.000000    7620.000000\n",
              "75%    7.308900e+09  6.450000e+05  ...    2360.000000   10083.000000\n",
              "max    9.900000e+09  7.700000e+06  ...    6210.000000  871200.000000\n",
              "\n",
              "[8 rows x 20 columns]"
            ]
          },
          "metadata": {},
          "execution_count": 10
        }
      ]
    },
    {
      "cell_type": "markdown",
      "metadata": {
        "id": "17GDfJEdhcV0"
      },
      "source": [
        "###Data Preprocessing."
      ]
    },
    {
      "cell_type": "code",
      "metadata": {
        "id": "NUPAu_Wr5YO0"
      },
      "source": [
        "#dropping unnecessary columns\n",
        "house_prices.drop(['id','yr_renovated','yr_built','zipcode','lat','long'],1,inplace=True)\n"
      ],
      "execution_count": null,
      "outputs": []
    },
    {
      "cell_type": "code",
      "metadata": {
        "id": "DSftrw_ShiI-",
        "colab": {
          "base_uri": "https://localhost:8080/"
        },
        "outputId": "92b00552-bca3-4c61-b909-c5cc84fcb138"
      },
      "source": [
        "#checking for null values\n",
        "#df.isnull().sum()\n",
        "#df.dropna()\n",
        "\n",
        "house_prices.isnull().sum()"
      ],
      "execution_count": null,
      "outputs": [
        {
          "output_type": "execute_result",
          "data": {
            "text/plain": [
              "price            0\n",
              "bedrooms         0\n",
              "bathrooms        0\n",
              "sqft_living      0\n",
              "sqft_lot         0\n",
              "floors           0\n",
              "waterfront       0\n",
              "view             0\n",
              "condition        0\n",
              "grade            0\n",
              "sqft_above       0\n",
              "sqft_basement    0\n",
              "sqft_living15    0\n",
              "sqft_lot15       0\n",
              "dtype: int64"
            ]
          },
          "metadata": {},
          "execution_count": 12
        }
      ]
    },
    {
      "cell_type": "code",
      "metadata": {
        "id": "OUu5Cs80jJqI",
        "colab": {
          "base_uri": "https://localhost:8080/"
        },
        "outputId": "69b8ff5e-cc16-41e1-b659-93efc193fef2"
      },
      "source": [
        "#checking for duplicates\n",
        "#df.duplicated().sum()\n",
        "house_prices.duplicated().sum()\n",
        "house_prices.drop_duplicates(inplace=True)\n",
        "\n",
        "house_prices.duplicated().sum()\n"
      ],
      "execution_count": null,
      "outputs": [
        {
          "output_type": "execute_result",
          "data": {
            "text/plain": [
              "0"
            ]
          },
          "metadata": {},
          "execution_count": 13
        }
      ]
    },
    {
      "cell_type": "code",
      "metadata": {
        "id": "gtei8hgYjLqy",
        "colab": {
          "base_uri": "https://localhost:8080/"
        },
        "outputId": "fddeb668-e740-4b9f-c0d3-6169a707956d"
      },
      "source": [
        "#outliers\n",
        "bedrooms = house_prices['bedrooms'] \n",
        "\n",
        "Q3 = bedrooms.quantile(0.75)\n",
        "Q1 = bedrooms.quantile(0.25)\n",
        "IQR = Q3-Q1\n",
        "IQR\n",
        "\n",
        "house_prices['bedrooms'] = bedrooms[~((bedrooms<(Q1-1.5*IQR)) | (bedrooms>(Q3+1.5*IQR)))]\n",
        "house_prices.shape"
      ],
      "execution_count": null,
      "outputs": [
        {
          "output_type": "execute_result",
          "data": {
            "text/plain": [
              "(21606, 14)"
            ]
          },
          "metadata": {},
          "execution_count": 14
        }
      ]
    },
    {
      "cell_type": "code",
      "metadata": {
        "colab": {
          "base_uri": "https://localhost:8080/",
          "height": 419
        },
        "id": "WYDWkvEI4jhI",
        "outputId": "e8464de1-eb1e-4e5a-e1f4-a1b703472820"
      },
      "source": [
        "house_prices"
      ],
      "execution_count": null,
      "outputs": [
        {
          "output_type": "execute_result",
          "data": {
            "text/html": [
              "<div>\n",
              "<style scoped>\n",
              "    .dataframe tbody tr th:only-of-type {\n",
              "        vertical-align: middle;\n",
              "    }\n",
              "\n",
              "    .dataframe tbody tr th {\n",
              "        vertical-align: top;\n",
              "    }\n",
              "\n",
              "    .dataframe thead th {\n",
              "        text-align: right;\n",
              "    }\n",
              "</style>\n",
              "<table border=\"1\" class=\"dataframe\">\n",
              "  <thead>\n",
              "    <tr style=\"text-align: right;\">\n",
              "      <th></th>\n",
              "      <th>price</th>\n",
              "      <th>bedrooms</th>\n",
              "      <th>bathrooms</th>\n",
              "      <th>sqft_living</th>\n",
              "      <th>sqft_lot</th>\n",
              "      <th>floors</th>\n",
              "      <th>waterfront</th>\n",
              "      <th>view</th>\n",
              "      <th>condition</th>\n",
              "      <th>grade</th>\n",
              "      <th>sqft_above</th>\n",
              "      <th>sqft_basement</th>\n",
              "      <th>sqft_living15</th>\n",
              "      <th>sqft_lot15</th>\n",
              "    </tr>\n",
              "  </thead>\n",
              "  <tbody>\n",
              "    <tr>\n",
              "      <th>0</th>\n",
              "      <td>221900.0</td>\n",
              "      <td>3.0</td>\n",
              "      <td>1.00</td>\n",
              "      <td>1180</td>\n",
              "      <td>5650</td>\n",
              "      <td>1.0</td>\n",
              "      <td>0</td>\n",
              "      <td>0</td>\n",
              "      <td>3</td>\n",
              "      <td>7</td>\n",
              "      <td>1180</td>\n",
              "      <td>0</td>\n",
              "      <td>1340</td>\n",
              "      <td>5650</td>\n",
              "    </tr>\n",
              "    <tr>\n",
              "      <th>1</th>\n",
              "      <td>538000.0</td>\n",
              "      <td>3.0</td>\n",
              "      <td>2.25</td>\n",
              "      <td>2570</td>\n",
              "      <td>7242</td>\n",
              "      <td>2.0</td>\n",
              "      <td>0</td>\n",
              "      <td>0</td>\n",
              "      <td>3</td>\n",
              "      <td>7</td>\n",
              "      <td>2170</td>\n",
              "      <td>400</td>\n",
              "      <td>1690</td>\n",
              "      <td>7639</td>\n",
              "    </tr>\n",
              "    <tr>\n",
              "      <th>2</th>\n",
              "      <td>180000.0</td>\n",
              "      <td>2.0</td>\n",
              "      <td>1.00</td>\n",
              "      <td>770</td>\n",
              "      <td>10000</td>\n",
              "      <td>1.0</td>\n",
              "      <td>0</td>\n",
              "      <td>0</td>\n",
              "      <td>3</td>\n",
              "      <td>6</td>\n",
              "      <td>770</td>\n",
              "      <td>0</td>\n",
              "      <td>2720</td>\n",
              "      <td>8062</td>\n",
              "    </tr>\n",
              "    <tr>\n",
              "      <th>3</th>\n",
              "      <td>604000.0</td>\n",
              "      <td>4.0</td>\n",
              "      <td>3.00</td>\n",
              "      <td>1960</td>\n",
              "      <td>5000</td>\n",
              "      <td>1.0</td>\n",
              "      <td>0</td>\n",
              "      <td>0</td>\n",
              "      <td>5</td>\n",
              "      <td>7</td>\n",
              "      <td>1050</td>\n",
              "      <td>910</td>\n",
              "      <td>1360</td>\n",
              "      <td>5000</td>\n",
              "    </tr>\n",
              "    <tr>\n",
              "      <th>4</th>\n",
              "      <td>510000.0</td>\n",
              "      <td>3.0</td>\n",
              "      <td>2.00</td>\n",
              "      <td>1680</td>\n",
              "      <td>8080</td>\n",
              "      <td>1.0</td>\n",
              "      <td>0</td>\n",
              "      <td>0</td>\n",
              "      <td>3</td>\n",
              "      <td>8</td>\n",
              "      <td>1680</td>\n",
              "      <td>0</td>\n",
              "      <td>1800</td>\n",
              "      <td>7503</td>\n",
              "    </tr>\n",
              "    <tr>\n",
              "      <th>...</th>\n",
              "      <td>...</td>\n",
              "      <td>...</td>\n",
              "      <td>...</td>\n",
              "      <td>...</td>\n",
              "      <td>...</td>\n",
              "      <td>...</td>\n",
              "      <td>...</td>\n",
              "      <td>...</td>\n",
              "      <td>...</td>\n",
              "      <td>...</td>\n",
              "      <td>...</td>\n",
              "      <td>...</td>\n",
              "      <td>...</td>\n",
              "      <td>...</td>\n",
              "    </tr>\n",
              "    <tr>\n",
              "      <th>21608</th>\n",
              "      <td>360000.0</td>\n",
              "      <td>3.0</td>\n",
              "      <td>2.50</td>\n",
              "      <td>1530</td>\n",
              "      <td>1131</td>\n",
              "      <td>3.0</td>\n",
              "      <td>0</td>\n",
              "      <td>0</td>\n",
              "      <td>3</td>\n",
              "      <td>8</td>\n",
              "      <td>1530</td>\n",
              "      <td>0</td>\n",
              "      <td>1530</td>\n",
              "      <td>1509</td>\n",
              "    </tr>\n",
              "    <tr>\n",
              "      <th>21609</th>\n",
              "      <td>400000.0</td>\n",
              "      <td>4.0</td>\n",
              "      <td>2.50</td>\n",
              "      <td>2310</td>\n",
              "      <td>5813</td>\n",
              "      <td>2.0</td>\n",
              "      <td>0</td>\n",
              "      <td>0</td>\n",
              "      <td>3</td>\n",
              "      <td>8</td>\n",
              "      <td>2310</td>\n",
              "      <td>0</td>\n",
              "      <td>1830</td>\n",
              "      <td>7200</td>\n",
              "    </tr>\n",
              "    <tr>\n",
              "      <th>21610</th>\n",
              "      <td>402101.0</td>\n",
              "      <td>2.0</td>\n",
              "      <td>0.75</td>\n",
              "      <td>1020</td>\n",
              "      <td>1350</td>\n",
              "      <td>2.0</td>\n",
              "      <td>0</td>\n",
              "      <td>0</td>\n",
              "      <td>3</td>\n",
              "      <td>7</td>\n",
              "      <td>1020</td>\n",
              "      <td>0</td>\n",
              "      <td>1020</td>\n",
              "      <td>2007</td>\n",
              "    </tr>\n",
              "    <tr>\n",
              "      <th>21611</th>\n",
              "      <td>400000.0</td>\n",
              "      <td>3.0</td>\n",
              "      <td>2.50</td>\n",
              "      <td>1600</td>\n",
              "      <td>2388</td>\n",
              "      <td>2.0</td>\n",
              "      <td>0</td>\n",
              "      <td>0</td>\n",
              "      <td>3</td>\n",
              "      <td>8</td>\n",
              "      <td>1600</td>\n",
              "      <td>0</td>\n",
              "      <td>1410</td>\n",
              "      <td>1287</td>\n",
              "    </tr>\n",
              "    <tr>\n",
              "      <th>21612</th>\n",
              "      <td>325000.0</td>\n",
              "      <td>2.0</td>\n",
              "      <td>0.75</td>\n",
              "      <td>1020</td>\n",
              "      <td>1076</td>\n",
              "      <td>2.0</td>\n",
              "      <td>0</td>\n",
              "      <td>0</td>\n",
              "      <td>3</td>\n",
              "      <td>7</td>\n",
              "      <td>1020</td>\n",
              "      <td>0</td>\n",
              "      <td>1020</td>\n",
              "      <td>1357</td>\n",
              "    </tr>\n",
              "  </tbody>\n",
              "</table>\n",
              "<p>21606 rows × 14 columns</p>\n",
              "</div>"
            ],
            "text/plain": [
              "          price  bedrooms  bathrooms  ...  sqft_basement  sqft_living15  sqft_lot15\n",
              "0      221900.0       3.0       1.00  ...              0           1340        5650\n",
              "1      538000.0       3.0       2.25  ...            400           1690        7639\n",
              "2      180000.0       2.0       1.00  ...              0           2720        8062\n",
              "3      604000.0       4.0       3.00  ...            910           1360        5000\n",
              "4      510000.0       3.0       2.00  ...              0           1800        7503\n",
              "...         ...       ...        ...  ...            ...            ...         ...\n",
              "21608  360000.0       3.0       2.50  ...              0           1530        1509\n",
              "21609  400000.0       4.0       2.50  ...              0           1830        7200\n",
              "21610  402101.0       2.0       0.75  ...              0           1020        2007\n",
              "21611  400000.0       3.0       2.50  ...              0           1410        1287\n",
              "21612  325000.0       2.0       0.75  ...              0           1020        1357\n",
              "\n",
              "[21606 rows x 14 columns]"
            ]
          },
          "metadata": {},
          "execution_count": 15
        }
      ]
    },
    {
      "cell_type": "code",
      "metadata": {
        "colab": {
          "base_uri": "https://localhost:8080/"
        },
        "id": "NKUXazCs4z0q",
        "outputId": "c5dba048-fe01-458a-9f11-cdd8e1ba0f81"
      },
      "source": [
        "house_prices.isnull().sum()\n",
        "house_prices.dropna(inplace=True)\n",
        "\n",
        "house_prices.isnull().sum()"
      ],
      "execution_count": null,
      "outputs": [
        {
          "output_type": "execute_result",
          "data": {
            "text/plain": [
              "price            0\n",
              "bedrooms         0\n",
              "bathrooms        0\n",
              "sqft_living      0\n",
              "sqft_lot         0\n",
              "floors           0\n",
              "waterfront       0\n",
              "view             0\n",
              "condition        0\n",
              "grade            0\n",
              "sqft_above       0\n",
              "sqft_basement    0\n",
              "sqft_living15    0\n",
              "sqft_lot15       0\n",
              "dtype: int64"
            ]
          },
          "metadata": {},
          "execution_count": 16
        }
      ]
    },
    {
      "cell_type": "markdown",
      "metadata": {
        "id": "cFUjrgXfm0O-"
      },
      "source": [
        "###Exploratory Data Analysis"
      ]
    },
    {
      "cell_type": "markdown",
      "metadata": {
        "id": "_JyMgw3AmFKN"
      },
      "source": [
        "####Univariate Analysis."
      ]
    },
    {
      "cell_type": "code",
      "metadata": {
        "id": "x8oF_5OrmYno"
      },
      "source": [
        "#distplotgs\n",
        "#barplots\n",
        "#histograms\n",
        "#piecharts\n",
        "#linecharts"
      ],
      "execution_count": null,
      "outputs": []
    },
    {
      "cell_type": "code",
      "metadata": {
        "colab": {
          "base_uri": "https://localhost:8080/"
        },
        "id": "AA09GgIhHeuV",
        "outputId": "0553f46f-33be-496d-a948-023a0ed29cec"
      },
      "source": [
        "house_prices.columns"
      ],
      "execution_count": null,
      "outputs": [
        {
          "output_type": "execute_result",
          "data": {
            "text/plain": [
              "Index(['price', 'bedrooms', 'bathrooms', 'sqft_living', 'sqft_lot', 'floors',\n",
              "       'waterfront', 'view', 'condition', 'grade', 'sqft_above',\n",
              "       'sqft_basement', 'sqft_living15', 'sqft_lot15'],\n",
              "      dtype='object')"
            ]
          },
          "metadata": {},
          "execution_count": 18
        }
      ]
    },
    {
      "cell_type": "code",
      "metadata": {
        "colab": {
          "base_uri": "https://localhost:8080/",
          "height": 524
        },
        "id": "bgQ4hD-KLkK_",
        "outputId": "1e51fc1d-0cf0-49eb-d554-fdca543aacda"
      },
      "source": [
        "plt.subplots(figsize=(10,7))\n",
        "sns.distplot(house_prices.price)"
      ],
      "execution_count": null,
      "outputs": [
        {
          "output_type": "stream",
          "name": "stderr",
          "text": [
            "/usr/local/lib/python3.7/dist-packages/seaborn/distributions.py:2619: FutureWarning: `distplot` is a deprecated function and will be removed in a future version. Please adapt your code to use either `displot` (a figure-level function with similar flexibility) or `histplot` (an axes-level function for histograms).\n",
            "  warnings.warn(msg, FutureWarning)\n"
          ]
        },
        {
          "output_type": "execute_result",
          "data": {
            "text/plain": [
              "<matplotlib.axes._subplots.AxesSubplot at 0x7f3a1be77450>"
            ]
          },
          "metadata": {},
          "execution_count": 21
        },
        {
          "output_type": "display_data",
          "data": {
            "image/png": "[encoded data removed]",
            "text/plain": [
              "<Figure size 720x504 with 1 Axes>"
            ]
          },
          "metadata": {
            "needs_background": "light"
          }
        }
      ]
    },
    {
      "cell_type": "markdown",
      "metadata": {
        "id": "aGq3GWZDOR3L"
      },
      "source": [
        "######Most house prices range above 250000 to 600000"
      ]
    },
    {
      "cell_type": "code",
      "metadata": {
        "colab": {
          "base_uri": "https://localhost:8080/",
          "height": 288
        },
        "id": "0aE84gi5CIpB",
        "outputId": "def4489e-bc4a-4c32-fe80-fbfd4afac79c"
      },
      "source": [
        "#checking on the number of houses used for the analysis per number of bedroomas\n",
        "\n",
        "house_prices['bedrooms'].value_counts().sort_index().plot.bar()\n"
      ],
      "execution_count": null,
      "outputs": [
        {
          "output_type": "execute_result",
          "data": {
            "text/plain": [
              "<matplotlib.axes._subplots.AxesSubplot at 0x7f3a0f4df2d0>"
            ]
          },
          "metadata": {},
          "execution_count": 22
        },
        {
          "output_type": "display_data",
          "data": {
            "image/png": "[encoded data removed]",
            "text/plain": [
              "<Figure size 432x288 with 1 Axes>"
            ]
          },
          "metadata": {
            "needs_background": "light"
          }
        }
      ]
    },
    {
      "cell_type": "markdown",
      "metadata": {
        "id": "angof20MObPq"
      },
      "source": [
        "######Most houses used for the study were three bedroomed housses"
      ]
    },
    {
      "cell_type": "code",
      "metadata": {
        "colab": {
          "base_uri": "https://localhost:8080/",
          "height": 295
        },
        "id": "8eG9UdT8I9a1",
        "outputId": "9d4dee5a-281a-4bce-d864-5dcbb9edb231"
      },
      "source": [
        "#checking on the number of houses used for the analysis per number of bathrooms\n",
        "\n",
        "house_prices['bathrooms'].value_counts().sort_index().plot.bar()\n"
      ],
      "execution_count": null,
      "outputs": [
        {
          "output_type": "execute_result",
          "data": {
            "text/plain": [
              "<matplotlib.axes._subplots.AxesSubplot at 0x7f3a0f4ecd50>"
            ]
          },
          "metadata": {},
          "execution_count": 23
        },
        {
          "output_type": "display_data",
          "data": {
            "image/png": "[encoded data removed]",
            "text/plain": [
              "<Figure size 432x288 with 1 Axes>"
            ]
          },
          "metadata": {
            "needs_background": "light"
          }
        }
      ]
    },
    {
      "cell_type": "code",
      "metadata": {
        "colab": {
          "base_uri": "https://localhost:8080/",
          "height": 285
        },
        "id": "KHD8uaqoI9vA",
        "outputId": "9291a98b-850a-4457-c40b-cd340e3c6a2a"
      },
      "source": [
        "#checking on the number of houses used for the analysis per number of grade\n",
        "\n",
        "house_prices['grade'].value_counts().sort_index().plot.bar()\n"
      ],
      "execution_count": null,
      "outputs": [
        {
          "output_type": "execute_result",
          "data": {
            "text/plain": [
              "<matplotlib.axes._subplots.AxesSubplot at 0x7f3a0f444cd0>"
            ]
          },
          "metadata": {},
          "execution_count": 24
        },
        {
          "output_type": "display_data",
          "data": {
            "image/png": "[encoded data removed]",
            "text/plain": [
              "<Figure size 432x288 with 1 Axes>"
            ]
          },
          "metadata": {
            "needs_background": "light"
          }
        }
      ]
    },
    {
      "cell_type": "code",
      "metadata": {
        "colab": {
          "base_uri": "https://localhost:8080/",
          "height": 285
        },
        "id": "RWQ7hvLTJmI4",
        "outputId": "4acdf26a-10fa-4d01-9f42-4906700363dd"
      },
      "source": [
        "#checking on the number of houses used for the analysis per number of grade\n",
        "\n",
        "house_prices['grade'].value_counts().sort_index().plot.bar()\n"
      ],
      "execution_count": null,
      "outputs": [
        {
          "output_type": "execute_result",
          "data": {
            "text/plain": [
              "<matplotlib.axes._subplots.AxesSubplot at 0x7f3a0f2bf210>"
            ]
          },
          "metadata": {},
          "execution_count": 25
        },
        {
          "output_type": "display_data",
          "data": {
            "image/png": "[encoded data removed]",
            "text/plain": [
              "<Figure size 432x288 with 1 Axes>"
            ]
          },
          "metadata": {
            "needs_background": "light"
          }
        }
      ]
    },
    {
      "cell_type": "markdown",
      "metadata": {
        "id": "Fljr1sACmZ3V"
      },
      "source": [
        "####Bivariate Analysis"
      ]
    },
    {
      "cell_type": "markdown",
      "metadata": {
        "id": "qMrzzGKJscSx"
      },
      "source": [
        "#####Multicollinearity"
      ]
    },
    {
      "cell_type": "code",
      "metadata": {
        "id": "G1SYUBt-sVwa"
      },
      "source": [
        "#heatmap\n",
        "#pairplot\n",
        "#correlations = df.corr()"
      ],
      "execution_count": null,
      "outputs": []
    },
    {
      "cell_type": "code",
      "metadata": {
        "colab": {
          "base_uri": "https://localhost:8080/",
          "height": 676
        },
        "id": "LDwOVrPq9RUI",
        "outputId": "f4dcef4f-a2f0-4ba6-e175-e60bee76d03f"
      },
      "source": [
        "plt.subplots(figsize=(10,10))\n",
        "sns.heatmap(house_prices.corr(),annot=True)"
      ],
      "execution_count": null,
      "outputs": [
        {
          "output_type": "execute_result",
          "data": {
            "text/plain": [
              "<matplotlib.axes._subplots.AxesSubplot at 0x7f3a0f25ea90>"
            ]
          },
          "metadata": {},
          "execution_count": 27
        },
        {
          "output_type": "display_data",
          "data": {
            "image/png": "[encoded data removed]",
            "text/plain": [
              "<Figure size 720x720 with 2 Axes>"
            ]
          },
          "metadata": {
            "needs_background": "light"
          }
        }
      ]
    },
    {
      "cell_type": "code",
      "metadata": {
        "colab": {
          "base_uri": "https://localhost:8080/",
          "height": 472
        },
        "id": "TMFj4TrQ8ChI",
        "outputId": "3b702c95-5fa0-4573-a77c-0b5516ce4c77"
      },
      "source": [
        "independent = house_prices.drop('price', axis=1)\n",
        "correlations = independent.corr()\n",
        "correlations"
      ],
      "execution_count": null,
      "outputs": [
        {
          "output_type": "execute_result",
          "data": {
            "text/html": [
              "<div>\n",
              "<style scoped>\n",
              "    .dataframe tbody tr th:only-of-type {\n",
              "        vertical-align: middle;\n",
              "    }\n",
              "\n",
              "    .dataframe tbody tr th {\n",
              "        vertical-align: top;\n",
              "    }\n",
              "\n",
              "    .dataframe thead th {\n",
              "        text-align: right;\n",
              "    }\n",
              "</style>\n",
              "<table border=\"1\" class=\"dataframe\">\n",
              "  <thead>\n",
              "    <tr style=\"text-align: right;\">\n",
              "      <th></th>\n",
              "      <th>bedrooms</th>\n",
              "      <th>bathrooms</th>\n",
              "      <th>sqft_living</th>\n",
              "      <th>sqft_lot</th>\n",
              "      <th>floors</th>\n",
              "      <th>waterfront</th>\n",
              "      <th>view</th>\n",
              "      <th>condition</th>\n",
              "      <th>grade</th>\n",
              "      <th>sqft_above</th>\n",
              "      <th>sqft_basement</th>\n",
              "      <th>sqft_living15</th>\n",
              "      <th>sqft_lot15</th>\n",
              "    </tr>\n",
              "  </thead>\n",
              "  <tbody>\n",
              "    <tr>\n",
              "      <th>bedrooms</th>\n",
              "      <td>1.000000</td>\n",
              "      <td>0.505010</td>\n",
              "      <td>0.583583</td>\n",
              "      <td>0.036083</td>\n",
              "      <td>0.178574</td>\n",
              "      <td>-0.004555</td>\n",
              "      <td>0.076718</td>\n",
              "      <td>0.017160</td>\n",
              "      <td>0.370631</td>\n",
              "      <td>0.489351</td>\n",
              "      <td>0.279647</td>\n",
              "      <td>0.424745</td>\n",
              "      <td>0.036003</td>\n",
              "    </tr>\n",
              "    <tr>\n",
              "      <th>bathrooms</th>\n",
              "      <td>0.505010</td>\n",
              "      <td>1.000000</td>\n",
              "      <td>0.746016</td>\n",
              "      <td>0.088121</td>\n",
              "      <td>0.505526</td>\n",
              "      <td>0.066690</td>\n",
              "      <td>0.183096</td>\n",
              "      <td>-0.134533</td>\n",
              "      <td>0.668973</td>\n",
              "      <td>0.676574</td>\n",
              "      <td>0.261832</td>\n",
              "      <td>0.573806</td>\n",
              "      <td>0.089080</td>\n",
              "    </tr>\n",
              "    <tr>\n",
              "      <th>sqft_living</th>\n",
              "      <td>0.583583</td>\n",
              "      <td>0.746016</td>\n",
              "      <td>1.000000</td>\n",
              "      <td>0.173130</td>\n",
              "      <td>0.348947</td>\n",
              "      <td>0.109444</td>\n",
              "      <td>0.279416</td>\n",
              "      <td>-0.068204</td>\n",
              "      <td>0.765845</td>\n",
              "      <td>0.874044</td>\n",
              "      <td>0.412604</td>\n",
              "      <td>0.763573</td>\n",
              "      <td>0.185771</td>\n",
              "    </tr>\n",
              "    <tr>\n",
              "      <th>sqft_lot</th>\n",
              "      <td>0.036083</td>\n",
              "      <td>0.088121</td>\n",
              "      <td>0.173130</td>\n",
              "      <td>1.000000</td>\n",
              "      <td>-0.007749</td>\n",
              "      <td>0.021803</td>\n",
              "      <td>0.074639</td>\n",
              "      <td>-0.010886</td>\n",
              "      <td>0.115609</td>\n",
              "      <td>0.182739</td>\n",
              "      <td>0.012532</td>\n",
              "      <td>0.143193</td>\n",
              "      <td>0.715532</td>\n",
              "    </tr>\n",
              "    <tr>\n",
              "      <th>floors</th>\n",
              "      <td>0.178574</td>\n",
              "      <td>0.505526</td>\n",
              "      <td>0.348947</td>\n",
              "      <td>-0.007749</td>\n",
              "      <td>1.000000</td>\n",
              "      <td>0.025095</td>\n",
              "      <td>0.024923</td>\n",
              "      <td>-0.270455</td>\n",
              "      <td>0.455436</td>\n",
              "      <td>0.520434</td>\n",
              "      <td>-0.259947</td>\n",
              "      <td>0.276368</td>\n",
              "      <td>-0.014027</td>\n",
              "    </tr>\n",
              "    <tr>\n",
              "      <th>waterfront</th>\n",
              "      <td>-0.004555</td>\n",
              "      <td>0.066690</td>\n",
              "      <td>0.109444</td>\n",
              "      <td>0.021803</td>\n",
              "      <td>0.025095</td>\n",
              "      <td>1.000000</td>\n",
              "      <td>0.399987</td>\n",
              "      <td>0.014437</td>\n",
              "      <td>0.086820</td>\n",
              "      <td>0.074847</td>\n",
              "      <td>0.084177</td>\n",
              "      <td>0.086874</td>\n",
              "      <td>0.031726</td>\n",
              "    </tr>\n",
              "    <tr>\n",
              "      <th>view</th>\n",
              "      <td>0.076718</td>\n",
              "      <td>0.183096</td>\n",
              "      <td>0.279416</td>\n",
              "      <td>0.074639</td>\n",
              "      <td>0.024923</td>\n",
              "      <td>0.399987</td>\n",
              "      <td>1.000000</td>\n",
              "      <td>0.044310</td>\n",
              "      <td>0.248651</td>\n",
              "      <td>0.159200</td>\n",
              "      <td>0.274694</td>\n",
              "      <td>0.275101</td>\n",
              "      <td>0.072072</td>\n",
              "    </tr>\n",
              "    <tr>\n",
              "      <th>condition</th>\n",
              "      <td>0.017160</td>\n",
              "      <td>-0.134533</td>\n",
              "      <td>-0.068204</td>\n",
              "      <td>-0.010886</td>\n",
              "      <td>-0.270455</td>\n",
              "      <td>0.014437</td>\n",
              "      <td>0.044310</td>\n",
              "      <td>1.000000</td>\n",
              "      <td>-0.156748</td>\n",
              "      <td>-0.168504</td>\n",
              "      <td>0.176017</td>\n",
              "      <td>-0.099831</td>\n",
              "      <td>-0.005375</td>\n",
              "    </tr>\n",
              "    <tr>\n",
              "      <th>grade</th>\n",
              "      <td>0.370631</td>\n",
              "      <td>0.668973</td>\n",
              "      <td>0.765845</td>\n",
              "      <td>0.115609</td>\n",
              "      <td>0.455436</td>\n",
              "      <td>0.086820</td>\n",
              "      <td>0.248651</td>\n",
              "      <td>-0.156748</td>\n",
              "      <td>1.000000</td>\n",
              "      <td>0.757182</td>\n",
              "      <td>0.151377</td>\n",
              "      <td>0.714246</td>\n",
              "      <td>0.123514</td>\n",
              "    </tr>\n",
              "    <tr>\n",
              "      <th>sqft_above</th>\n",
              "      <td>0.489351</td>\n",
              "      <td>0.676574</td>\n",
              "      <td>0.874044</td>\n",
              "      <td>0.182739</td>\n",
              "      <td>0.520434</td>\n",
              "      <td>0.074847</td>\n",
              "      <td>0.159200</td>\n",
              "      <td>-0.168504</td>\n",
              "      <td>0.757182</td>\n",
              "      <td>1.000000</td>\n",
              "      <td>-0.081928</td>\n",
              "      <td>0.735545</td>\n",
              "      <td>0.194630</td>\n",
              "    </tr>\n",
              "    <tr>\n",
              "      <th>sqft_basement</th>\n",
              "      <td>0.279647</td>\n",
              "      <td>0.261832</td>\n",
              "      <td>0.412604</td>\n",
              "      <td>0.012532</td>\n",
              "      <td>-0.259947</td>\n",
              "      <td>0.084177</td>\n",
              "      <td>0.274694</td>\n",
              "      <td>0.176017</td>\n",
              "      <td>0.151377</td>\n",
              "      <td>-0.081928</td>\n",
              "      <td>1.000000</td>\n",
              "      <td>0.187282</td>\n",
              "      <td>0.016168</td>\n",
              "    </tr>\n",
              "    <tr>\n",
              "      <th>sqft_living15</th>\n",
              "      <td>0.424745</td>\n",
              "      <td>0.573806</td>\n",
              "      <td>0.763573</td>\n",
              "      <td>0.143193</td>\n",
              "      <td>0.276368</td>\n",
              "      <td>0.086874</td>\n",
              "      <td>0.275101</td>\n",
              "      <td>-0.099831</td>\n",
              "      <td>0.714246</td>\n",
              "      <td>0.735545</td>\n",
              "      <td>0.187282</td>\n",
              "      <td>1.000000</td>\n",
              "      <td>0.182614</td>\n",
              "    </tr>\n",
              "    <tr>\n",
              "      <th>sqft_lot15</th>\n",
              "      <td>0.036003</td>\n",
              "      <td>0.089080</td>\n",
              "      <td>0.185771</td>\n",
              "      <td>0.715532</td>\n",
              "      <td>-0.014027</td>\n",
              "      <td>0.031726</td>\n",
              "      <td>0.072072</td>\n",
              "      <td>-0.005375</td>\n",
              "      <td>0.123514</td>\n",
              "      <td>0.194630</td>\n",
              "      <td>0.016168</td>\n",
              "      <td>0.182614</td>\n",
              "      <td>1.000000</td>\n",
              "    </tr>\n",
              "  </tbody>\n",
              "</table>\n",
              "</div>"
            ],
            "text/plain": [
              "               bedrooms  bathrooms  ...  sqft_living15  sqft_lot15\n",
              "bedrooms       1.000000   0.505010  ...       0.424745    0.036003\n",
              "bathrooms      0.505010   1.000000  ...       0.573806    0.089080\n",
              "sqft_living    0.583583   0.746016  ...       0.763573    0.185771\n",
              "sqft_lot       0.036083   0.088121  ...       0.143193    0.715532\n",
              "floors         0.178574   0.505526  ...       0.276368   -0.014027\n",
              "waterfront    -0.004555   0.066690  ...       0.086874    0.031726\n",
              "view           0.076718   0.183096  ...       0.275101    0.072072\n",
              "condition      0.017160  -0.134533  ...      -0.099831   -0.005375\n",
              "grade          0.370631   0.668973  ...       0.714246    0.123514\n",
              "sqft_above     0.489351   0.676574  ...       0.735545    0.194630\n",
              "sqft_basement  0.279647   0.261832  ...       0.187282    0.016168\n",
              "sqft_living15  0.424745   0.573806  ...       1.000000    0.182614\n",
              "sqft_lot15     0.036003   0.089080  ...       0.182614    1.000000\n",
              "\n",
              "[13 rows x 13 columns]"
            ]
          },
          "metadata": {},
          "execution_count": 28
        }
      ]
    },
    {
      "cell_type": "markdown",
      "metadata": {
        "id": "M4UUvEOQtBty"
      },
      "source": [
        "#####vif"
      ]
    },
    {
      "cell_type": "code",
      "metadata": {
        "id": "Cklq5_NftAd7",
        "colab": {
          "base_uri": "https://localhost:8080/",
          "height": 472
        },
        "outputId": "58555c37-5bfe-4d7c-bcad-e164a8f24956"
      },
      "source": [
        "pd.DataFrame(np.linalg.inv(correlations.values), index = correlations.index, columns=correlations.columns)\n"
      ],
      "execution_count": null,
      "outputs": [
        {
          "output_type": "execute_result",
          "data": {
            "text/html": [
              "<div>\n",
              "<style scoped>\n",
              "    .dataframe tbody tr th:only-of-type {\n",
              "        vertical-align: middle;\n",
              "    }\n",
              "\n",
              "    .dataframe tbody tr th {\n",
              "        vertical-align: top;\n",
              "    }\n",
              "\n",
              "    .dataframe thead th {\n",
              "        text-align: right;\n",
              "    }\n",
              "</style>\n",
              "<table border=\"1\" class=\"dataframe\">\n",
              "  <thead>\n",
              "    <tr style=\"text-align: right;\">\n",
              "      <th></th>\n",
              "      <th>bedrooms</th>\n",
              "      <th>bathrooms</th>\n",
              "      <th>sqft_living</th>\n",
              "      <th>sqft_lot</th>\n",
              "      <th>floors</th>\n",
              "      <th>waterfront</th>\n",
              "      <th>view</th>\n",
              "      <th>condition</th>\n",
              "      <th>grade</th>\n",
              "      <th>sqft_above</th>\n",
              "      <th>sqft_basement</th>\n",
              "      <th>sqft_living15</th>\n",
              "      <th>sqft_lot15</th>\n",
              "    </tr>\n",
              "  </thead>\n",
              "  <tbody>\n",
              "    <tr>\n",
              "      <th>bedrooms</th>\n",
              "      <td>1.639462</td>\n",
              "      <td>-0.368569</td>\n",
              "      <td>-1.384994e+00</td>\n",
              "      <td>0.041276</td>\n",
              "      <td>0.075716</td>\n",
              "      <td>0.065283</td>\n",
              "      <td>0.115937</td>\n",
              "      <td>-0.082505</td>\n",
              "      <td>0.350335</td>\n",
              "      <td>3.593978e-01</td>\n",
              "      <td>1.987469e-01</td>\n",
              "      <td>-0.060425</td>\n",
              "      <td>0.088076</td>\n",
              "    </tr>\n",
              "    <tr>\n",
              "      <th>bathrooms</th>\n",
              "      <td>-0.368569</td>\n",
              "      <td>2.869625</td>\n",
              "      <td>1.457126e+00</td>\n",
              "      <td>-0.012117</td>\n",
              "      <td>-0.844668</td>\n",
              "      <td>0.001139</td>\n",
              "      <td>0.051617</td>\n",
              "      <td>0.071609</td>\n",
              "      <td>-0.493781</td>\n",
              "      <td>-2.374442e+00</td>\n",
              "      <td>-1.622111e+00</td>\n",
              "      <td>0.015278</td>\n",
              "      <td>0.024853</td>\n",
              "    </tr>\n",
              "    <tr>\n",
              "      <th>sqft_living</th>\n",
              "      <td>-1.399926</td>\n",
              "      <td>1.477810</td>\n",
              "      <td>-1.412454e+14</td>\n",
              "      <td>-0.468513</td>\n",
              "      <td>7.607621</td>\n",
              "      <td>-0.421945</td>\n",
              "      <td>0.304949</td>\n",
              "      <td>0.122353</td>\n",
              "      <td>-1.594871</td>\n",
              "      <td>1.290959e+14</td>\n",
              "      <td>6.885511e+13</td>\n",
              "      <td>-1.595823</td>\n",
              "      <td>1.543653</td>\n",
              "    </tr>\n",
              "    <tr>\n",
              "      <th>sqft_lot</th>\n",
              "      <td>0.041276</td>\n",
              "      <td>-0.012117</td>\n",
              "      <td>-4.703518e-01</td>\n",
              "      <td>2.069257</td>\n",
              "      <td>0.079899</td>\n",
              "      <td>0.031139</td>\n",
              "      <td>-0.057357</td>\n",
              "      <td>0.013237</td>\n",
              "      <td>0.002062</td>\n",
              "      <td>1.926051e-01</td>\n",
              "      <td>2.063844e-01</td>\n",
              "      <td>0.128761</td>\n",
              "      <td>-1.453779</td>\n",
              "    </tr>\n",
              "    <tr>\n",
              "      <th>floors</th>\n",
              "      <td>0.075716</td>\n",
              "      <td>-0.844668</td>\n",
              "      <td>7.596042e+00</td>\n",
              "      <td>0.079899</td>\n",
              "      <td>1.900374</td>\n",
              "      <td>-0.008161</td>\n",
              "      <td>-0.033727</td>\n",
              "      <td>0.206148</td>\n",
              "      <td>-0.371667</td>\n",
              "      <td>-7.314074e+00</td>\n",
              "      <td>-3.078148e+00</td>\n",
              "      <td>0.352608</td>\n",
              "      <td>0.089748</td>\n",
              "    </tr>\n",
              "    <tr>\n",
              "      <th>waterfront</th>\n",
              "      <td>0.065283</td>\n",
              "      <td>0.001139</td>\n",
              "      <td>-4.168604e-01</td>\n",
              "      <td>0.031139</td>\n",
              "      <td>-0.008161</td>\n",
              "      <td>1.197517</td>\n",
              "      <td>-0.489942</td>\n",
              "      <td>-0.003211</td>\n",
              "      <td>0.046646</td>\n",
              "      <td>2.512683e-01</td>\n",
              "      <td>1.862213e-01</td>\n",
              "      <td>0.068829</td>\n",
              "      <td>-0.020357</td>\n",
              "    </tr>\n",
              "    <tr>\n",
              "      <th>view</th>\n",
              "      <td>0.115937</td>\n",
              "      <td>0.051617</td>\n",
              "      <td>2.865541e-01</td>\n",
              "      <td>-0.057357</td>\n",
              "      <td>-0.033727</td>\n",
              "      <td>-0.489942</td>\n",
              "      <td>1.372846</td>\n",
              "      <td>-0.049681</td>\n",
              "      <td>-0.149820</td>\n",
              "      <td>-2.484003e-01</td>\n",
              "      <td>-4.506150e-01</td>\n",
              "      <td>-0.250060</td>\n",
              "      <td>0.014351</td>\n",
              "    </tr>\n",
              "    <tr>\n",
              "      <th>condition</th>\n",
              "      <td>-0.082505</td>\n",
              "      <td>0.071609</td>\n",
              "      <td>1.253032e-01</td>\n",
              "      <td>0.013237</td>\n",
              "      <td>0.206148</td>\n",
              "      <td>-0.003211</td>\n",
              "      <td>-0.049681</td>\n",
              "      <td>1.108214</td>\n",
              "      <td>0.089149</td>\n",
              "      <td>-1.588760e-01</td>\n",
              "      <td>-2.125508e-01</td>\n",
              "      <td>0.058386</td>\n",
              "      <td>-0.011098</td>\n",
              "    </tr>\n",
              "    <tr>\n",
              "      <th>grade</th>\n",
              "      <td>0.350335</td>\n",
              "      <td>-0.493781</td>\n",
              "      <td>-1.531559e+00</td>\n",
              "      <td>0.002062</td>\n",
              "      <td>-0.371667</td>\n",
              "      <td>0.046646</td>\n",
              "      <td>-0.149820</td>\n",
              "      <td>0.089149</td>\n",
              "      <td>3.187596</td>\n",
              "      <td>-5.452202e-02</td>\n",
              "      <td>2.580988e-01</td>\n",
              "      <td>-0.846572</td>\n",
              "      <td>0.086788</td>\n",
              "    </tr>\n",
              "    <tr>\n",
              "      <th>sqft_above</th>\n",
              "      <td>0.364813</td>\n",
              "      <td>-2.382830</td>\n",
              "      <td>1.290959e+14</td>\n",
              "      <td>0.190310</td>\n",
              "      <td>-7.325921</td>\n",
              "      <td>0.255944</td>\n",
              "      <td>-0.263466</td>\n",
              "      <td>-0.155398</td>\n",
              "      <td>0.000949</td>\n",
              "      <td>-1.179915e+14</td>\n",
              "      <td>-6.293240e+13</td>\n",
              "      <td>-0.138912</td>\n",
              "      <td>-1.604942</td>\n",
              "    </tr>\n",
              "    <tr>\n",
              "      <th>sqft_basement</th>\n",
              "      <td>0.198741</td>\n",
              "      <td>-1.628074</td>\n",
              "      <td>6.885511e+13</td>\n",
              "      <td>0.205253</td>\n",
              "      <td>-3.083718</td>\n",
              "      <td>0.188723</td>\n",
              "      <td>-0.459240</td>\n",
              "      <td>-0.210868</td>\n",
              "      <td>0.288958</td>\n",
              "      <td>-6.293240e+13</td>\n",
              "      <td>-3.356588e+13</td>\n",
              "      <td>0.399555</td>\n",
              "      <td>-0.773564</td>\n",
              "    </tr>\n",
              "    <tr>\n",
              "      <th>sqft_living15</th>\n",
              "      <td>-0.060425</td>\n",
              "      <td>0.015278</td>\n",
              "      <td>-1.575293e+00</td>\n",
              "      <td>0.128761</td>\n",
              "      <td>0.352608</td>\n",
              "      <td>0.068829</td>\n",
              "      <td>-0.250060</td>\n",
              "      <td>0.058386</td>\n",
              "      <td>-0.846572</td>\n",
              "      <td>-1.576765e-01</td>\n",
              "      <td>3.895466e-01</td>\n",
              "      <td>2.851099</td>\n",
              "      <td>-0.169273</td>\n",
              "    </tr>\n",
              "    <tr>\n",
              "      <th>sqft_lot15</th>\n",
              "      <td>0.088076</td>\n",
              "      <td>0.024853</td>\n",
              "      <td>1.544195e+00</td>\n",
              "      <td>-1.453779</td>\n",
              "      <td>0.089748</td>\n",
              "      <td>-0.020357</td>\n",
              "      <td>0.014351</td>\n",
              "      <td>-0.011098</td>\n",
              "      <td>0.086788</td>\n",
              "      <td>-1.605438e+00</td>\n",
              "      <td>-7.738285e-01</td>\n",
              "      <td>-0.169273</td>\n",
              "      <td>2.093956</td>\n",
              "    </tr>\n",
              "  </tbody>\n",
              "</table>\n",
              "</div>"
            ],
            "text/plain": [
              "               bedrooms  bathrooms  ...  sqft_living15  sqft_lot15\n",
              "bedrooms       1.639462  -0.368569  ...      -0.060425    0.088076\n",
              "bathrooms     -0.368569   2.869625  ...       0.015278    0.024853\n",
              "sqft_living   -1.399926   1.477810  ...      -1.595823    1.543653\n",
              "sqft_lot       0.041276  -0.012117  ...       0.128761   -1.453779\n",
              "floors         0.075716  -0.844668  ...       0.352608    0.089748\n",
              "waterfront     0.065283   0.001139  ...       0.068829   -0.020357\n",
              "view           0.115937   0.051617  ...      -0.250060    0.014351\n",
              "condition     -0.082505   0.071609  ...       0.058386   -0.011098\n",
              "grade          0.350335  -0.493781  ...      -0.846572    0.086788\n",
              "sqft_above     0.364813  -2.382830  ...      -0.138912   -1.604942\n",
              "sqft_basement  0.198741  -1.628074  ...       0.399555   -0.773564\n",
              "sqft_living15 -0.060425   0.015278  ...       2.851099   -0.169273\n",
              "sqft_lot15     0.088076   0.024853  ...      -0.169273    2.093956\n",
              "\n",
              "[13 rows x 13 columns]"
            ]
          },
          "metadata": {},
          "execution_count": 29
        }
      ]
    },
    {
      "cell_type": "markdown",
      "metadata": {
        "id": "OZ9lBBwruQnF"
      },
      "source": [
        "######Observation: Grade column had a high vif nearing 5 this shows highest correlation. We'll drop it a see if vif dropped also"
      ]
    },
    {
      "cell_type": "code",
      "metadata": {
        "id": "tix4rh8pxK-n",
        "colab": {
          "base_uri": "https://localhost:8080/",
          "height": 421
        },
        "outputId": "9c77a8e5-27fb-4cf9-e9be-c6c708b4e168"
      },
      "source": [
        "\n",
        "revised = independent.drop(['grade'], axis=1)\n",
        "\n",
        "correlations = revised.corr()\n",
        "pd.DataFrame(np.linalg.inv(correlations.values), index = correlations.index, columns=correlations.columns)\n",
        "\n",
        "#sqft living 15 dropped more"
      ],
      "execution_count": null,
      "outputs": [
        {
          "output_type": "execute_result",
          "data": {
            "text/html": [
              "<div>\n",
              "<style scoped>\n",
              "    .dataframe tbody tr th:only-of-type {\n",
              "        vertical-align: middle;\n",
              "    }\n",
              "\n",
              "    .dataframe tbody tr th {\n",
              "        vertical-align: top;\n",
              "    }\n",
              "\n",
              "    .dataframe thead th {\n",
              "        text-align: right;\n",
              "    }\n",
              "</style>\n",
              "<table border=\"1\" class=\"dataframe\">\n",
              "  <thead>\n",
              "    <tr style=\"text-align: right;\">\n",
              "      <th></th>\n",
              "      <th>bedrooms</th>\n",
              "      <th>bathrooms</th>\n",
              "      <th>sqft_living</th>\n",
              "      <th>sqft_lot</th>\n",
              "      <th>floors</th>\n",
              "      <th>waterfront</th>\n",
              "      <th>view</th>\n",
              "      <th>condition</th>\n",
              "      <th>sqft_above</th>\n",
              "      <th>sqft_basement</th>\n",
              "      <th>sqft_living15</th>\n",
              "      <th>sqft_lot15</th>\n",
              "    </tr>\n",
              "  </thead>\n",
              "  <tbody>\n",
              "    <tr>\n",
              "      <th>bedrooms</th>\n",
              "      <td>1.600958</td>\n",
              "      <td>-0.314300</td>\n",
              "      <td>-1.231585e+00</td>\n",
              "      <td>0.041049</td>\n",
              "      <td>0.116565</td>\n",
              "      <td>0.060156</td>\n",
              "      <td>0.132403</td>\n",
              "      <td>-0.092303</td>\n",
              "      <td>3.805701e-01</td>\n",
              "      <td>1.724692e-01</td>\n",
              "      <td>0.032619</td>\n",
              "      <td>0.078538</td>\n",
              "    </tr>\n",
              "    <tr>\n",
              "      <th>bathrooms</th>\n",
              "      <td>-0.314300</td>\n",
              "      <td>2.793135</td>\n",
              "      <td>1.228614e+00</td>\n",
              "      <td>-0.011798</td>\n",
              "      <td>-0.902242</td>\n",
              "      <td>0.008365</td>\n",
              "      <td>0.028408</td>\n",
              "      <td>0.085419</td>\n",
              "      <td>-2.391372e+00</td>\n",
              "      <td>-1.585078e+00</td>\n",
              "      <td>-0.115862</td>\n",
              "      <td>0.038297</td>\n",
              "    </tr>\n",
              "    <tr>\n",
              "      <th>sqft_living</th>\n",
              "      <td>-1.225146</td>\n",
              "      <td>1.236150</td>\n",
              "      <td>-1.414926e+14</td>\n",
              "      <td>-0.471231</td>\n",
              "      <td>7.431699</td>\n",
              "      <td>-0.399083</td>\n",
              "      <td>0.230621</td>\n",
              "      <td>0.168044</td>\n",
              "      <td>1.293218e+14</td>\n",
              "      <td>6.897559e+13</td>\n",
              "      <td>-2.018774</td>\n",
              "      <td>1.593952</td>\n",
              "    </tr>\n",
              "    <tr>\n",
              "      <th>sqft_lot</th>\n",
              "      <td>0.041049</td>\n",
              "      <td>-0.011798</td>\n",
              "      <td>-4.703065e-01</td>\n",
              "      <td>2.069256</td>\n",
              "      <td>0.080139</td>\n",
              "      <td>0.031109</td>\n",
              "      <td>-0.057260</td>\n",
              "      <td>0.013179</td>\n",
              "      <td>1.927044e-01</td>\n",
              "      <td>2.062809e-01</td>\n",
              "      <td>0.129309</td>\n",
              "      <td>-1.453835</td>\n",
              "    </tr>\n",
              "    <tr>\n",
              "      <th>floors</th>\n",
              "      <td>0.116565</td>\n",
              "      <td>-0.902242</td>\n",
              "      <td>7.428698e+00</td>\n",
              "      <td>0.080139</td>\n",
              "      <td>1.857039</td>\n",
              "      <td>-0.002722</td>\n",
              "      <td>-0.051195</td>\n",
              "      <td>0.216543</td>\n",
              "      <td>-7.329475e+00</td>\n",
              "      <td>-3.054078e+00</td>\n",
              "      <td>0.253900</td>\n",
              "      <td>0.099867</td>\n",
              "    </tr>\n",
              "    <tr>\n",
              "      <th>waterfront</th>\n",
              "      <td>0.060156</td>\n",
              "      <td>0.008365</td>\n",
              "      <td>-3.953502e-01</td>\n",
              "      <td>0.031109</td>\n",
              "      <td>-0.002722</td>\n",
              "      <td>1.196835</td>\n",
              "      <td>-0.487750</td>\n",
              "      <td>-0.004515</td>\n",
              "      <td>2.527177e-01</td>\n",
              "      <td>1.827808e-01</td>\n",
              "      <td>0.081217</td>\n",
              "      <td>-0.021627</td>\n",
              "    </tr>\n",
              "    <tr>\n",
              "      <th>view</th>\n",
              "      <td>0.132403</td>\n",
              "      <td>0.028408</td>\n",
              "      <td>2.172983e-01</td>\n",
              "      <td>-0.057260</td>\n",
              "      <td>-0.051195</td>\n",
              "      <td>-0.487750</td>\n",
              "      <td>1.365804</td>\n",
              "      <td>-0.045491</td>\n",
              "      <td>-2.517872e-01</td>\n",
              "      <td>-4.390994e-01</td>\n",
              "      <td>-0.289850</td>\n",
              "      <td>0.018430</td>\n",
              "    </tr>\n",
              "    <tr>\n",
              "      <th>condition</th>\n",
              "      <td>-0.092303</td>\n",
              "      <td>0.085419</td>\n",
              "      <td>1.693445e-01</td>\n",
              "      <td>0.013179</td>\n",
              "      <td>0.216543</td>\n",
              "      <td>-0.004515</td>\n",
              "      <td>-0.045491</td>\n",
              "      <td>1.105721</td>\n",
              "      <td>-1.582759e-01</td>\n",
              "      <td>-2.201005e-01</td>\n",
              "      <td>0.082063</td>\n",
              "      <td>-0.013525</td>\n",
              "    </tr>\n",
              "    <tr>\n",
              "      <th>sqft_above</th>\n",
              "      <td>0.365170</td>\n",
              "      <td>-2.387616</td>\n",
              "      <td>1.293218e+14</td>\n",
              "      <td>0.193736</td>\n",
              "      <td>-7.334984</td>\n",
              "      <td>0.256366</td>\n",
              "      <td>-0.263999</td>\n",
              "      <td>-0.156418</td>\n",
              "      <td>-1.181979e+14</td>\n",
              "      <td>-6.304251e+13</td>\n",
              "      <td>-0.139228</td>\n",
              "      <td>-1.611253</td>\n",
              "    </tr>\n",
              "    <tr>\n",
              "      <th>sqft_basement</th>\n",
              "      <td>0.167229</td>\n",
              "      <td>-1.585943</td>\n",
              "      <td>6.897559e+13</td>\n",
              "      <td>0.206893</td>\n",
              "      <td>-3.054919</td>\n",
              "      <td>0.184727</td>\n",
              "      <td>-0.445967</td>\n",
              "      <td>-0.219479</td>\n",
              "      <td>-6.304251e+13</td>\n",
              "      <td>-3.362461e+13</td>\n",
              "      <td>0.475994</td>\n",
              "      <td>-0.784784</td>\n",
              "    </tr>\n",
              "    <tr>\n",
              "      <th>sqft_living15</th>\n",
              "      <td>0.032619</td>\n",
              "      <td>-0.115862</td>\n",
              "      <td>-1.983425e+00</td>\n",
              "      <td>0.129309</td>\n",
              "      <td>0.253900</td>\n",
              "      <td>0.081217</td>\n",
              "      <td>-0.289850</td>\n",
              "      <td>0.082063</td>\n",
              "      <td>-1.715360e-01</td>\n",
              "      <td>4.587624e-01</td>\n",
              "      <td>2.626263</td>\n",
              "      <td>-0.146224</td>\n",
              "    </tr>\n",
              "    <tr>\n",
              "      <th>sqft_lot15</th>\n",
              "      <td>0.078538</td>\n",
              "      <td>0.038297</td>\n",
              "      <td>1.588094e+00</td>\n",
              "      <td>-1.453835</td>\n",
              "      <td>0.099867</td>\n",
              "      <td>-0.021627</td>\n",
              "      <td>0.018430</td>\n",
              "      <td>-0.013525</td>\n",
              "      <td>-1.605899e+00</td>\n",
              "      <td>-7.819279e-01</td>\n",
              "      <td>-0.146224</td>\n",
              "      <td>2.091593</td>\n",
              "    </tr>\n",
              "  </tbody>\n",
              "</table>\n",
              "</div>"
            ],
            "text/plain": [
              "               bedrooms  bathrooms  ...  sqft_living15  sqft_lot15\n",
              "bedrooms       1.600958  -0.314300  ...       0.032619    0.078538\n",
              "bathrooms     -0.314300   2.793135  ...      -0.115862    0.038297\n",
              "sqft_living   -1.225146   1.236150  ...      -2.018774    1.593952\n",
              "sqft_lot       0.041049  -0.011798  ...       0.129309   -1.453835\n",
              "floors         0.116565  -0.902242  ...       0.253900    0.099867\n",
              "waterfront     0.060156   0.008365  ...       0.081217   -0.021627\n",
              "view           0.132403   0.028408  ...      -0.289850    0.018430\n",
              "condition     -0.092303   0.085419  ...       0.082063   -0.013525\n",
              "sqft_above     0.365170  -2.387616  ...      -0.139228   -1.611253\n",
              "sqft_basement  0.167229  -1.585943  ...       0.475994   -0.784784\n",
              "sqft_living15  0.032619  -0.115862  ...       2.626263   -0.146224\n",
              "sqft_lot15     0.078538   0.038297  ...      -0.146224    2.091593\n",
              "\n",
              "[12 rows x 12 columns]"
            ]
          },
          "metadata": {},
          "execution_count": 30
        }
      ]
    },
    {
      "cell_type": "code",
      "metadata": {
        "id": "1cryGO96mcPV"
      },
      "source": [
        "#scatter\n",
        "#line chart\n",
        "#stacked bar chart\n",
        "#bargraph"
      ],
      "execution_count": null,
      "outputs": []
    },
    {
      "cell_type": "code",
      "metadata": {
        "colab": {
          "base_uri": "https://localhost:8080/"
        },
        "id": "6lwMi0SsJHbu",
        "outputId": "235733fb-fa89-4a97-b80c-0b946d2230d4"
      },
      "source": [
        "house_prices.columns"
      ],
      "execution_count": null,
      "outputs": [
        {
          "output_type": "execute_result",
          "data": {
            "text/plain": [
              "Index(['price', 'bedrooms', 'bathrooms', 'sqft_living', 'sqft_lot', 'floors',\n",
              "       'waterfront', 'view', 'condition', 'grade', 'sqft_above',\n",
              "       'sqft_basement', 'sqft_living15', 'sqft_lot15'],\n",
              "      dtype='object')"
            ]
          },
          "metadata": {},
          "execution_count": 32
        }
      ]
    },
    {
      "cell_type": "code",
      "metadata": {
        "colab": {
          "base_uri": "https://localhost:8080/",
          "height": 295
        },
        "id": "j9oALwmyNcAE",
        "outputId": "f7386c0e-fc7d-4e12-c861-240388c38aee"
      },
      "source": [
        "##prices based on bedrooms\n",
        "\n",
        "plt.bar(house_prices.bedrooms, house_prices.price )\n",
        "plt.title('Prices of Houses by the number of bedrooms')\n",
        "plt.xlabel('Number of bedrooms')\n",
        "plt.ylabel('Prices')\n",
        "plt.show()"
      ],
      "execution_count": null,
      "outputs": [
        {
          "output_type": "display_data",
          "data": {
            "image/png": "[encoded data removed]",
            "text/plain": [
              "<Figure size 432x288 with 1 Axes>"
            ]
          },
          "metadata": {
            "needs_background": "light"
          }
        }
      ]
    },
    {
      "cell_type": "code",
      "metadata": {
        "id": "u_H8Pp9zXYFe"
      },
      "source": [
        "house_prices['bathrooms'] = house_prices['bathrooms'].apply(np.int64)"
      ],
      "execution_count": null,
      "outputs": []
    },
    {
      "cell_type": "code",
      "metadata": {
        "colab": {
          "base_uri": "https://localhost:8080/",
          "height": 295
        },
        "id": "Euq3Bj3HKeqM",
        "outputId": "a165f3d1-fe3c-4b19-f46b-57e1f508dadb"
      },
      "source": [
        "##prices based on bathrooms\n",
        "\n",
        "plt.bar(house_prices.floors, house_prices.price )\n",
        "plt.title('Prices of Houses by the number of bathrooms')\n",
        "plt.xlabel('Number of bathrooms')\n",
        "plt.ylabel('Prices')\n",
        "plt.show()"
      ],
      "execution_count": null,
      "outputs": [
        {
          "output_type": "display_data",
          "data": {
            "image/png": "[encoded data removed]",
            "text/plain": [
              "<Figure size 432x288 with 1 Axes>"
            ]
          },
          "metadata": {
            "needs_background": "light"
          }
        }
      ]
    },
    {
      "cell_type": "code",
      "metadata": {
        "colab": {
          "base_uri": "https://localhost:8080/",
          "height": 235
        },
        "id": "4OohjhtIQleD",
        "outputId": "30f6e574-2b4c-43ce-9d9a-b941e771ef24"
      },
      "source": [
        "df = house_prices.groupby(['floors'])['price'].mean().reset_index()\n",
        "df.sort_values('floors')\n",
        "df"
      ],
      "execution_count": null,
      "outputs": [
        {
          "output_type": "execute_result",
          "data": {
            "text/html": [
              "<div>\n",
              "<style scoped>\n",
              "    .dataframe tbody tr th:only-of-type {\n",
              "        vertical-align: middle;\n",
              "    }\n",
              "\n",
              "    .dataframe tbody tr th {\n",
              "        vertical-align: top;\n",
              "    }\n",
              "\n",
              "    .dataframe thead th {\n",
              "        text-align: right;\n",
              "    }\n",
              "</style>\n",
              "<table border=\"1\" class=\"dataframe\">\n",
              "  <thead>\n",
              "    <tr style=\"text-align: right;\">\n",
              "      <th></th>\n",
              "      <th>floors</th>\n",
              "      <th>price</th>\n",
              "    </tr>\n",
              "  </thead>\n",
              "  <tbody>\n",
              "    <tr>\n",
              "      <th>0</th>\n",
              "      <td>1.0</td>\n",
              "      <td>442867.372138</td>\n",
              "    </tr>\n",
              "    <tr>\n",
              "      <th>1</th>\n",
              "      <td>1.5</td>\n",
              "      <td>557903.497029</td>\n",
              "    </tr>\n",
              "    <tr>\n",
              "      <th>2</th>\n",
              "      <td>2.0</td>\n",
              "      <td>644531.663320</td>\n",
              "    </tr>\n",
              "    <tr>\n",
              "      <th>3</th>\n",
              "      <td>2.5</td>\n",
              "      <td>957923.163121</td>\n",
              "    </tr>\n",
              "    <tr>\n",
              "      <th>4</th>\n",
              "      <td>3.0</td>\n",
              "      <td>574676.059900</td>\n",
              "    </tr>\n",
              "    <tr>\n",
              "      <th>5</th>\n",
              "      <td>3.5</td>\n",
              "      <td>511916.666667</td>\n",
              "    </tr>\n",
              "  </tbody>\n",
              "</table>\n",
              "</div>"
            ],
            "text/plain": [
              "   floors          price\n",
              "0     1.0  442867.372138\n",
              "1     1.5  557903.497029\n",
              "2     2.0  644531.663320\n",
              "3     2.5  957923.163121\n",
              "4     3.0  574676.059900\n",
              "5     3.5  511916.666667"
            ]
          },
          "metadata": {},
          "execution_count": 36
        }
      ]
    },
    {
      "cell_type": "code",
      "metadata": {
        "id": "RPyrlKfXW6ke"
      },
      "source": [
        "#changing floors to int \n",
        "\n",
        "df['floors'] = df['floors'].apply(np.int64)"
      ],
      "execution_count": null,
      "outputs": []
    },
    {
      "cell_type": "code",
      "metadata": {
        "colab": {
          "base_uri": "https://localhost:8080/",
          "height": 295
        },
        "id": "HtfskNCYKeOc",
        "outputId": "a06463b8-fcda-455a-f750-0b05bd460c0b"
      },
      "source": [
        "#checking for prices of houses by floor numbers\n",
        "\n",
        "plt.bar(df.floors, df.price )\n",
        "plt.title('Mean Prices of Houses by the number of Floors')\n",
        "plt.xlabel('Number of Floors')\n",
        "plt.ylabel('Prices')\n",
        "plt.show()"
      ],
      "execution_count": null,
      "outputs": [
        {
          "output_type": "display_data",
          "data": {
            "image/png": "[encoded data removed]",
            "text/plain": [
              "<Figure size 432x288 with 1 Axes>"
            ]
          },
          "metadata": {
            "needs_background": "light"
          }
        }
      ]
    },
    {
      "cell_type": "code",
      "metadata": {
        "colab": {
          "base_uri": "https://localhost:8080/"
        },
        "id": "-TuIMwiNXPFt",
        "outputId": "ca98509e-d39f-4322-e338-a443dbfdd6fa"
      },
      "source": [
        "house_prices.columns"
      ],
      "execution_count": null,
      "outputs": [
        {
          "output_type": "execute_result",
          "data": {
            "text/plain": [
              "Index(['price', 'bedrooms', 'bathrooms', 'sqft_living', 'sqft_lot', 'floors',\n",
              "       'waterfront', 'view', 'condition', 'grade', 'sqft_above',\n",
              "       'sqft_basement', 'sqft_living15', 'sqft_lot15'],\n",
              "      dtype='object')"
            ]
          },
          "metadata": {},
          "execution_count": 39
        }
      ]
    },
    {
      "cell_type": "code",
      "metadata": {
        "id": "fM778L2rXo4D"
      },
      "source": [
        "#Plotting prices of houses by grade\n",
        "\n",
        "#grade = house_prices.groupby(['grade'])['price'].mean().reset_index()\n",
        "#grade.sort_values('grade')\n",
        "#grade"
      ],
      "execution_count": null,
      "outputs": []
    },
    {
      "cell_type": "code",
      "metadata": {
        "colab": {
          "base_uri": "https://localhost:8080/",
          "height": 204
        },
        "id": "U2kEquzLdgPC",
        "outputId": "b63bcd04-c40d-41de-b329-323af141ea9b"
      },
      "source": [
        "#Scatter of grade against price\n",
        "\n",
        "grade = house_prices[['grade','price']]\n",
        "grade.head()\n"
      ],
      "execution_count": null,
      "outputs": [
        {
          "output_type": "execute_result",
          "data": {
            "text/html": [
              "<div>\n",
              "<style scoped>\n",
              "    .dataframe tbody tr th:only-of-type {\n",
              "        vertical-align: middle;\n",
              "    }\n",
              "\n",
              "    .dataframe tbody tr th {\n",
              "        vertical-align: top;\n",
              "    }\n",
              "\n",
              "    .dataframe thead th {\n",
              "        text-align: right;\n",
              "    }\n",
              "</style>\n",
              "<table border=\"1\" class=\"dataframe\">\n",
              "  <thead>\n",
              "    <tr style=\"text-align: right;\">\n",
              "      <th></th>\n",
              "      <th>grade</th>\n",
              "      <th>price</th>\n",
              "    </tr>\n",
              "  </thead>\n",
              "  <tbody>\n",
              "    <tr>\n",
              "      <th>0</th>\n",
              "      <td>7</td>\n",
              "      <td>221900.0</td>\n",
              "    </tr>\n",
              "    <tr>\n",
              "      <th>1</th>\n",
              "      <td>7</td>\n",
              "      <td>538000.0</td>\n",
              "    </tr>\n",
              "    <tr>\n",
              "      <th>2</th>\n",
              "      <td>6</td>\n",
              "      <td>180000.0</td>\n",
              "    </tr>\n",
              "    <tr>\n",
              "      <th>3</th>\n",
              "      <td>7</td>\n",
              "      <td>604000.0</td>\n",
              "    </tr>\n",
              "    <tr>\n",
              "      <th>4</th>\n",
              "      <td>8</td>\n",
              "      <td>510000.0</td>\n",
              "    </tr>\n",
              "  </tbody>\n",
              "</table>\n",
              "</div>"
            ],
            "text/plain": [
              "   grade     price\n",
              "0      7  221900.0\n",
              "1      7  538000.0\n",
              "2      6  180000.0\n",
              "3      7  604000.0\n",
              "4      8  510000.0"
            ]
          },
          "metadata": {},
          "execution_count": 41
        }
      ]
    },
    {
      "cell_type": "code",
      "metadata": {
        "colab": {
          "base_uri": "https://localhost:8080/",
          "height": 295
        },
        "id": "QRv1jHUcXokQ",
        "outputId": "897f1f76-1714-4a28-a259-cf1828e2fb57"
      },
      "source": [
        "#Scatter plot of grade of houses against prices\n",
        "\n",
        "plt.scatter(grade.price, grade.grade)\n",
        "plt.title('Prices of Houses by the grading')\n",
        "plt.xlabel('Grading')\n",
        "plt.ylabel('Prices')\n",
        "plt.show()"
      ],
      "execution_count": null,
      "outputs": [
        {
          "output_type": "display_data",
          "data": {
            "image/png": "[encoded data removed]",
            "text/plain": [
              "<Figure size 432x288 with 1 Axes>"
            ]
          },
          "metadata": {
            "needs_background": "light"
          }
        }
      ]
    },
    {
      "cell_type": "code",
      "metadata": {
        "colab": {
          "base_uri": "https://localhost:8080/"
        },
        "id": "H49Ja2lYd7Sq",
        "outputId": "507259b8-ff22-47db-b69f-fa84bef878a6"
      },
      "source": [
        "house_prices.columns"
      ],
      "execution_count": null,
      "outputs": [
        {
          "output_type": "execute_result",
          "data": {
            "text/plain": [
              "Index(['price', 'bedrooms', 'bathrooms', 'sqft_living', 'sqft_lot', 'floors',\n",
              "       'waterfront', 'view', 'condition', 'grade', 'sqft_above',\n",
              "       'sqft_basement', 'sqft_living15', 'sqft_lot15'],\n",
              "      dtype='object')"
            ]
          },
          "metadata": {},
          "execution_count": 43
        }
      ]
    },
    {
      "cell_type": "code",
      "metadata": {
        "colab": {
          "base_uri": "https://localhost:8080/",
          "height": 296
        },
        "id": "8PmtZ5kgd71R",
        "outputId": "74cfe37f-8be6-4dd1-9731-a7962d1ce51f"
      },
      "source": [
        "#\n",
        "df1= house_prices[['price','sqft_living15']]\n",
        "\n",
        "plt.scatter(df1.price, df1.sqft_living15)\n",
        "plt.title('Prices of Houses by the grading')\n",
        "plt.xlabel('sqft_living15')\n",
        "plt.ylabel('Prices')\n",
        "plt.show()"
      ],
      "execution_count": null,
      "outputs": [
        {
          "output_type": "display_data",
          "data": {
            "image/png": "[encoded data removed]",
            "text/plain": [
              "<Figure size 432x288 with 1 Axes>"
            ]
          },
          "metadata": {
            "needs_background": "light"
          }
        }
      ]
    },
    {
      "cell_type": "markdown",
      "metadata": {
        "id": "Zu1ufnYZmc_b"
      },
      "source": [
        "####Regression"
      ]
    },
    {
      "cell_type": "markdown",
      "metadata": {
        "id": "2IIKncVq41AS"
      },
      "source": [
        "####1. Multiple Linear Regression"
      ]
    },
    {
      "cell_type": "code",
      "metadata": {
        "colab": {
          "base_uri": "https://localhost:8080/",
          "height": 142
        },
        "id": "lB4k_t0w1rfj",
        "outputId": "54a3d524-3777-4432-80e3-3c1bcb010588"
      },
      "source": [
        "house_prices.head(3)"
      ],
      "execution_count": null,
      "outputs": [
        {
          "output_type": "execute_result",
          "data": {
            "text/html": [
              "<div>\n",
              "<style scoped>\n",
              "    .dataframe tbody tr th:only-of-type {\n",
              "        vertical-align: middle;\n",
              "    }\n",
              "\n",
              "    .dataframe tbody tr th {\n",
              "        vertical-align: top;\n",
              "    }\n",
              "\n",
              "    .dataframe thead th {\n",
              "        text-align: right;\n",
              "    }\n",
              "</style>\n",
              "<table border=\"1\" class=\"dataframe\">\n",
              "  <thead>\n",
              "    <tr style=\"text-align: right;\">\n",
              "      <th></th>\n",
              "      <th>price</th>\n",
              "      <th>bedrooms</th>\n",
              "      <th>bathrooms</th>\n",
              "      <th>sqft_living</th>\n",
              "      <th>sqft_lot</th>\n",
              "      <th>floors</th>\n",
              "      <th>waterfront</th>\n",
              "      <th>view</th>\n",
              "      <th>condition</th>\n",
              "      <th>grade</th>\n",
              "      <th>sqft_above</th>\n",
              "      <th>sqft_basement</th>\n",
              "      <th>sqft_living15</th>\n",
              "      <th>sqft_lot15</th>\n",
              "    </tr>\n",
              "  </thead>\n",
              "  <tbody>\n",
              "    <tr>\n",
              "      <th>0</th>\n",
              "      <td>221900.0</td>\n",
              "      <td>3.0</td>\n",
              "      <td>1</td>\n",
              "      <td>1180</td>\n",
              "      <td>5650</td>\n",
              "      <td>1.0</td>\n",
              "      <td>0</td>\n",
              "      <td>0</td>\n",
              "      <td>3</td>\n",
              "      <td>7</td>\n",
              "      <td>1180</td>\n",
              "      <td>0</td>\n",
              "      <td>1340</td>\n",
              "      <td>5650</td>\n",
              "    </tr>\n",
              "    <tr>\n",
              "      <th>1</th>\n",
              "      <td>538000.0</td>\n",
              "      <td>3.0</td>\n",
              "      <td>2</td>\n",
              "      <td>2570</td>\n",
              "      <td>7242</td>\n",
              "      <td>2.0</td>\n",
              "      <td>0</td>\n",
              "      <td>0</td>\n",
              "      <td>3</td>\n",
              "      <td>7</td>\n",
              "      <td>2170</td>\n",
              "      <td>400</td>\n",
              "      <td>1690</td>\n",
              "      <td>7639</td>\n",
              "    </tr>\n",
              "    <tr>\n",
              "      <th>2</th>\n",
              "      <td>180000.0</td>\n",
              "      <td>2.0</td>\n",
              "      <td>1</td>\n",
              "      <td>770</td>\n",
              "      <td>10000</td>\n",
              "      <td>1.0</td>\n",
              "      <td>0</td>\n",
              "      <td>0</td>\n",
              "      <td>3</td>\n",
              "      <td>6</td>\n",
              "      <td>770</td>\n",
              "      <td>0</td>\n",
              "      <td>2720</td>\n",
              "      <td>8062</td>\n",
              "    </tr>\n",
              "  </tbody>\n",
              "</table>\n",
              "</div>"
            ],
            "text/plain": [
              "      price  bedrooms  bathrooms  ...  sqft_basement  sqft_living15  sqft_lot15\n",
              "0  221900.0       3.0          1  ...              0           1340        5650\n",
              "1  538000.0       3.0          2  ...            400           1690        7639\n",
              "2  180000.0       2.0          1  ...              0           2720        8062\n",
              "\n",
              "[3 rows x 14 columns]"
            ]
          },
          "metadata": {},
          "execution_count": 45
        }
      ]
    },
    {
      "cell_type": "code",
      "metadata": {
        "id": "jyFRmboomezq"
      },
      "source": [
        "#separating features from labels\n",
        "\n",
        "X = house_prices.drop(['price','grade','sqft_living15'],axis=1).values\n",
        "y = house_prices.iloc[:,0].values"
      ],
      "execution_count": null,
      "outputs": []
    },
    {
      "cell_type": "code",
      "metadata": {
        "id": "nZ01dpGG2Bsy"
      },
      "source": [
        "#Splitting to train and test\n",
        "\n",
        "X_train,lin1X_test,y_train,lin1y_test = train_test_split(X,y , test_size=0.2, random_state = 0)"
      ],
      "execution_count": null,
      "outputs": []
    },
    {
      "cell_type": "code",
      "metadata": {
        "colab": {
          "base_uri": "https://localhost:8080/"
        },
        "id": "Rc-Sx1pk3H36",
        "outputId": "a930e748-3083-4e53-96bd-a6f7e0432404"
      },
      "source": [
        "#Training our model\n",
        "reg = LinearRegression()\n",
        "reg.fit(X_train, y_train)"
      ],
      "execution_count": null,
      "outputs": [
        {
          "output_type": "execute_result",
          "data": {
            "text/plain": [
              "LinearRegression(copy_X=True, fit_intercept=True, n_jobs=None, normalize=False)"
            ]
          },
          "metadata": {},
          "execution_count": 48
        }
      ]
    },
    {
      "cell_type": "code",
      "metadata": {
        "colab": {
          "base_uri": "https://localhost:8080/"
        },
        "id": "SKc0kE0m3Hq4",
        "outputId": "ebe15f63-e9a6-4fd4-ea9b-0846f31dae01"
      },
      "source": [
        "#Making predictions\n",
        "\n",
        "lin1_pred = reg.predict(lin1X_test)\n",
        "lin1_pred"
      ],
      "execution_count": null,
      "outputs": [
        {
          "output_type": "execute_result",
          "data": {
            "text/plain": [
              "array([836420.87964834, 818448.80005826, 664655.21346126, ...,\n",
              "       215820.80459241, 334088.73263259, 803261.42665111])"
            ]
          },
          "metadata": {},
          "execution_count": 49
        }
      ]
    },
    {
      "cell_type": "code",
      "metadata": {
        "colab": {
          "base_uri": "https://localhost:8080/"
        },
        "id": "r5diR7vq3oLI",
        "outputId": "2e03b14a-e820-46dd-b098-bd57f6388b42"
      },
      "source": [
        "#checking for accuracy using mse\n",
        "mse = np.mean((lin1_pred - lin1y_test)**2)\n",
        "mse"
      ],
      "execution_count": null,
      "outputs": [
        {
          "output_type": "execute_result",
          "data": {
            "text/plain": [
              "52583001596.98114"
            ]
          },
          "metadata": {},
          "execution_count": 53
        }
      ]
    },
    {
      "cell_type": "code",
      "metadata": {
        "colab": {
          "base_uri": "https://localhost:8080/"
        },
        "id": "rd98HZ3c3plT",
        "outputId": "98293d75-0b41-4cb6-b67c-8523f76bcd11"
      },
      "source": [
        "#checking using r square\n",
        "\n",
        "reg.score(lin1X_test, lin1y_test)"
      ],
      "execution_count": null,
      "outputs": [
        {
          "output_type": "execute_result",
          "data": {
            "text/plain": [
              "0.588789456132289"
            ]
          },
          "metadata": {},
          "execution_count": 55
        }
      ]
    },
    {
      "cell_type": "markdown",
      "metadata": {
        "id": "zfN5j5LkYyLI"
      },
      "source": [
        "######An R2 of 58.8% is acceptable. Being above half, it shows that X influences 59% of our y"
      ]
    },
    {
      "cell_type": "code",
      "metadata": {
        "colab": {
          "base_uri": "https://localhost:8080/",
          "height": 317
        },
        "id": "upHwit8B3nfb",
        "outputId": "fd8d4db3-279e-4d48-e326-bf62726cce2c"
      },
      "source": [
        "#checking for mean \n",
        "house_prices.describe()"
      ],
      "execution_count": null,
      "outputs": [
        {
          "output_type": "execute_result",
          "data": {
            "text/html": [
              "<div>\n",
              "<style scoped>\n",
              "    .dataframe tbody tr th:only-of-type {\n",
              "        vertical-align: middle;\n",
              "    }\n",
              "\n",
              "    .dataframe tbody tr th {\n",
              "        vertical-align: top;\n",
              "    }\n",
              "\n",
              "    .dataframe thead th {\n",
              "        text-align: right;\n",
              "    }\n",
              "</style>\n",
              "<table border=\"1\" class=\"dataframe\">\n",
              "  <thead>\n",
              "    <tr style=\"text-align: right;\">\n",
              "      <th></th>\n",
              "      <th>price</th>\n",
              "      <th>bedrooms</th>\n",
              "      <th>bathrooms</th>\n",
              "      <th>sqft_living</th>\n",
              "      <th>sqft_lot</th>\n",
              "      <th>floors</th>\n",
              "      <th>waterfront</th>\n",
              "      <th>view</th>\n",
              "      <th>condition</th>\n",
              "      <th>grade</th>\n",
              "      <th>sqft_above</th>\n",
              "      <th>sqft_basement</th>\n",
              "      <th>sqft_living15</th>\n",
              "      <th>sqft_lot15</th>\n",
              "    </tr>\n",
              "  </thead>\n",
              "  <tbody>\n",
              "    <tr>\n",
              "      <th>count</th>\n",
              "      <td>2.106000e+04</td>\n",
              "      <td>21060.000000</td>\n",
              "      <td>21060.000000</td>\n",
              "      <td>21060.000000</td>\n",
              "      <td>2.106000e+04</td>\n",
              "      <td>21060.000000</td>\n",
              "      <td>21060.000000</td>\n",
              "      <td>21060.000000</td>\n",
              "      <td>21060.000000</td>\n",
              "      <td>21060.000000</td>\n",
              "      <td>21060.000000</td>\n",
              "      <td>21060.000000</td>\n",
              "      <td>21060.000000</td>\n",
              "      <td>21060.000000</td>\n",
              "    </tr>\n",
              "    <tr>\n",
              "      <th>mean</th>\n",
              "      <td>5.374548e+05</td>\n",
              "      <td>3.347673</td>\n",
              "      <td>1.741263</td>\n",
              "      <td>2070.700950</td>\n",
              "      <td>1.504725e+04</td>\n",
              "      <td>1.494824</td>\n",
              "      <td>0.007312</td>\n",
              "      <td>0.229630</td>\n",
              "      <td>3.410304</td>\n",
              "      <td>7.664767</td>\n",
              "      <td>1785.010684</td>\n",
              "      <td>285.690266</td>\n",
              "      <td>1987.026543</td>\n",
              "      <td>12724.924169</td>\n",
              "    </tr>\n",
              "    <tr>\n",
              "      <th>std</th>\n",
              "      <td>3.555683e+05</td>\n",
              "      <td>0.800492</td>\n",
              "      <td>0.709776</td>\n",
              "      <td>889.455855</td>\n",
              "      <td>4.141375e+04</td>\n",
              "      <td>0.539610</td>\n",
              "      <td>0.085202</td>\n",
              "      <td>0.757491</td>\n",
              "      <td>0.649055</td>\n",
              "      <td>1.159514</td>\n",
              "      <td>812.947458</td>\n",
              "      <td>433.596929</td>\n",
              "      <td>682.185515</td>\n",
              "      <td>27086.528041</td>\n",
              "    </tr>\n",
              "    <tr>\n",
              "      <th>min</th>\n",
              "      <td>7.800000e+04</td>\n",
              "      <td>2.000000</td>\n",
              "      <td>0.000000</td>\n",
              "      <td>440.000000</td>\n",
              "      <td>5.200000e+02</td>\n",
              "      <td>1.000000</td>\n",
              "      <td>0.000000</td>\n",
              "      <td>0.000000</td>\n",
              "      <td>1.000000</td>\n",
              "      <td>4.000000</td>\n",
              "      <td>440.000000</td>\n",
              "      <td>0.000000</td>\n",
              "      <td>399.000000</td>\n",
              "      <td>651.000000</td>\n",
              "    </tr>\n",
              "    <tr>\n",
              "      <th>25%</th>\n",
              "      <td>3.225000e+05</td>\n",
              "      <td>3.000000</td>\n",
              "      <td>1.000000</td>\n",
              "      <td>1430.000000</td>\n",
              "      <td>5.047750e+03</td>\n",
              "      <td>1.000000</td>\n",
              "      <td>0.000000</td>\n",
              "      <td>0.000000</td>\n",
              "      <td>3.000000</td>\n",
              "      <td>7.000000</td>\n",
              "      <td>1200.000000</td>\n",
              "      <td>0.000000</td>\n",
              "      <td>1490.000000</td>\n",
              "      <td>5100.000000</td>\n",
              "    </tr>\n",
              "    <tr>\n",
              "      <th>50%</th>\n",
              "      <td>4.500000e+05</td>\n",
              "      <td>3.000000</td>\n",
              "      <td>2.000000</td>\n",
              "      <td>1910.000000</td>\n",
              "      <td>7.620000e+03</td>\n",
              "      <td>1.500000</td>\n",
              "      <td>0.000000</td>\n",
              "      <td>0.000000</td>\n",
              "      <td>3.000000</td>\n",
              "      <td>7.000000</td>\n",
              "      <td>1560.000000</td>\n",
              "      <td>0.000000</td>\n",
              "      <td>1840.000000</td>\n",
              "      <td>7626.000000</td>\n",
              "    </tr>\n",
              "    <tr>\n",
              "      <th>75%</th>\n",
              "      <td>6.400000e+05</td>\n",
              "      <td>4.000000</td>\n",
              "      <td>2.000000</td>\n",
              "      <td>2530.000000</td>\n",
              "      <td>1.063750e+04</td>\n",
              "      <td>2.000000</td>\n",
              "      <td>0.000000</td>\n",
              "      <td>0.000000</td>\n",
              "      <td>4.000000</td>\n",
              "      <td>8.000000</td>\n",
              "      <td>2200.000000</td>\n",
              "      <td>550.000000</td>\n",
              "      <td>2360.000000</td>\n",
              "      <td>10080.000000</td>\n",
              "    </tr>\n",
              "    <tr>\n",
              "      <th>max</th>\n",
              "      <td>7.060000e+06</td>\n",
              "      <td>5.000000</td>\n",
              "      <td>6.000000</td>\n",
              "      <td>10040.000000</td>\n",
              "      <td>1.651359e+06</td>\n",
              "      <td>3.500000</td>\n",
              "      <td>1.000000</td>\n",
              "      <td>4.000000</td>\n",
              "      <td>5.000000</td>\n",
              "      <td>13.000000</td>\n",
              "      <td>8020.000000</td>\n",
              "      <td>4820.000000</td>\n",
              "      <td>6210.000000</td>\n",
              "      <td>871200.000000</td>\n",
              "    </tr>\n",
              "  </tbody>\n",
              "</table>\n",
              "</div>"
            ],
            "text/plain": [
              "              price      bedrooms  ...  sqft_living15     sqft_lot15\n",
              "count  2.106000e+04  21060.000000  ...   21060.000000   21060.000000\n",
              "mean   5.374548e+05      3.347673  ...    1987.026543   12724.924169\n",
              "std    3.555683e+05      0.800492  ...     682.185515   27086.528041\n",
              "min    7.800000e+04      2.000000  ...     399.000000     651.000000\n",
              "25%    3.225000e+05      3.000000  ...    1490.000000    5100.000000\n",
              "50%    4.500000e+05      3.000000  ...    1840.000000    7626.000000\n",
              "75%    6.400000e+05      4.000000  ...    2360.000000   10080.000000\n",
              "max    7.060000e+06      5.000000  ...    6210.000000  871200.000000\n",
              "\n",
              "[8 rows x 14 columns]"
            ]
          },
          "metadata": {},
          "execution_count": 56
        }
      ]
    },
    {
      "cell_type": "markdown",
      "metadata": {
        "id": "YixXcdfI5EOZ"
      },
      "source": [
        "####2. Quantile Regression"
      ]
    },
    {
      "cell_type": "code",
      "metadata": {
        "colab": {
          "base_uri": "https://localhost:8080/"
        },
        "id": "UJrhZTL4M-iy",
        "outputId": "5e05726b-d1be-4767-ccf5-3b683e6e4d50"
      },
      "source": [
        "house_prices.columns"
      ],
      "execution_count": null,
      "outputs": [
        {
          "output_type": "execute_result",
          "data": {
            "text/plain": [
              "Index(['price', 'bedrooms', 'bathrooms', 'sqft_living', 'sqft_lot', 'floors',\n",
              "       'waterfront', 'view', 'condition', 'grade', 'sqft_above',\n",
              "       'sqft_basement', 'sqft_living15', 'sqft_lot15'],\n",
              "      dtype='object')"
            ]
          },
          "metadata": {},
          "execution_count": 57
        }
      ]
    },
    {
      "cell_type": "code",
      "metadata": {
        "id": "ChffQ6yO5H-Y"
      },
      "source": [
        "#separating features from labels\n",
        "\n",
        "X = house_prices[['bedrooms','bathrooms','sqft_living','sqft_lot','floors','waterfront','grade','sqft_living15']]\n",
        "y = house_prices.iloc[:,0]"
      ],
      "execution_count": null,
      "outputs": []
    },
    {
      "cell_type": "code",
      "metadata": {
        "colab": {
          "base_uri": "https://localhost:8080/"
        },
        "id": "VXO1sNpv5Ie3",
        "outputId": "160731f0-4370-4782-fcdb-0af7165ba7d7"
      },
      "source": [
        "#finding the regression coefficients for the median\n",
        "quantiles = [0.25,0.5,0.75]\n",
        "models = []\n",
        "params = []\n",
        "\n",
        "for qt in quantiles:\n",
        "\tmod = smf.quantreg(f\"y ~ X\", house_prices)\n",
        "\tres = mod.fit(q = qt )\n",
        "\tmodels.append(res);\n",
        "\tprint(res.summary())"
      ],
      "execution_count": null,
      "outputs": [
        {
          "output_type": "stream",
          "name": "stderr",
          "text": [
            "/usr/local/lib/python3.7/dist-packages/statsmodels/regression/quantile_regression.py:192: IterationLimitWarning: Maximum number of iterations (1000) reached.\n",
            "  \") reached.\", IterationLimitWarning)\n"
          ]
        },
        {
          "output_type": "stream",
          "name": "stdout",
          "text": [
            "                         QuantReg Regression Results                          \n",
            "==============================================================================\n",
            "Dep. Variable:                      y   Pseudo R-squared:               0.2579\n",
            "Model:                       QuantReg   Bandwidth:                   2.461e+04\n",
            "Method:                 Least Squares   Sparsity:                    4.091e+05\n",
            "Date:                Sat, 16 Oct 2021   No. Observations:                21060\n",
            "Time:                        10:00:58   Df Residuals:                    21051\n",
            "                                        Df Model:                            8\n",
            "==============================================================================\n",
            "                 coef    std err          t      P>|t|      [0.025      0.975]\n",
            "------------------------------------------------------------------------------\n",
            "Intercept  -3.673e+05   1.03e+04    -35.554      0.000   -3.88e+05   -3.47e+05\n",
            "X[0]       -2.871e+04   1812.448    -15.840      0.000   -3.23e+04   -2.52e+04\n",
            "X[1]       -1233.3872   2446.253     -0.504      0.614   -6028.230    3561.455\n",
            "X[2]          96.2992      2.848     33.815      0.000      90.717     101.881\n",
            "X[3]           0.0973      0.029      3.313      0.001       0.040       0.155\n",
            "X[4]       -1797.8231   2601.220     -0.691      0.489   -6896.413    3300.767\n",
            "X[5]        4.182e+05   1.46e+04     28.573      0.000     3.9e+05    4.47e+05\n",
            "X[6]        7.714e+04   1752.364     44.018      0.000    7.37e+04    8.06e+04\n",
            "X[7]          34.3798      2.680     12.829      0.000      29.127      39.633\n",
            "==============================================================================\n",
            "\n",
            "The condition number is large, 5.23e+05. This might indicate that there are\n",
            "strong multicollinearity or other numerical problems.\n"
          ]
        },
        {
          "output_type": "stream",
          "name": "stderr",
          "text": [
            "/usr/local/lib/python3.7/dist-packages/statsmodels/regression/quantile_regression.py:192: IterationLimitWarning: Maximum number of iterations (1000) reached.\n",
            "  \") reached.\", IterationLimitWarning)\n"
          ]
        },
        {
          "output_type": "stream",
          "name": "stdout",
          "text": [
            "                         QuantReg Regression Results                          \n",
            "==============================================================================\n",
            "Dep. Variable:                      y   Pseudo R-squared:               0.3176\n",
            "Model:                       QuantReg   Bandwidth:                   2.799e+04\n",
            "Method:                 Least Squares   Sparsity:                    3.779e+05\n",
            "Date:                Sat, 16 Oct 2021   No. Observations:                21060\n",
            "Time:                        10:01:01   Df Residuals:                    21051\n",
            "                                        Df Model:                            8\n",
            "==============================================================================\n",
            "                 coef    std err          t      P>|t|      [0.025      0.975]\n",
            "------------------------------------------------------------------------------\n",
            "Intercept  -3.574e+05    1.2e+04    -29.685      0.000   -3.81e+05   -3.34e+05\n",
            "X[0]       -3.374e+04   2052.414    -16.437      0.000   -3.78e+04   -2.97e+04\n",
            "X[1]        4346.6297   2722.390      1.597      0.110    -989.463    9682.723\n",
            "X[2]         129.0138      3.140     41.082      0.000     122.858     135.169\n",
            "X[3]          -0.1453      0.032     -4.521      0.000      -0.208      -0.082\n",
            "X[4]       -2.561e+04   2867.669     -8.929      0.000   -3.12e+04      -2e+04\n",
            "X[5]        6.645e+05   1.54e+04     43.055      0.000    6.34e+05    6.95e+05\n",
            "X[6]        8.916e+04   1973.491     45.179      0.000    8.53e+04     9.3e+04\n",
            "X[7]          26.0962      3.130      8.338      0.000      19.962      32.230\n",
            "==============================================================================\n",
            "\n",
            "The condition number is large, 5.23e+05. This might indicate that there are\n",
            "strong multicollinearity or other numerical problems.\n",
            "                         QuantReg Regression Results                          \n",
            "==============================================================================\n",
            "Dep. Variable:                      y   Pseudo R-squared:               0.3692\n",
            "Model:                       QuantReg   Bandwidth:                   2.584e+04\n",
            "Method:                 Least Squares   Sparsity:                    5.760e+05\n",
            "Date:                Sat, 16 Oct 2021   No. Observations:                21060\n",
            "Time:                        10:01:03   Df Residuals:                    21051\n",
            "                                        Df Model:                            8\n",
            "==============================================================================\n",
            "                 coef    std err          t      P>|t|      [0.025      0.975]\n",
            "------------------------------------------------------------------------------\n",
            "Intercept  -3.666e+05   1.73e+04    -21.197      0.000      -4e+05   -3.33e+05\n",
            "X[0]       -4.221e+04   2905.043    -14.528      0.000   -4.79e+04   -3.65e+04\n",
            "X[1]        -434.1234   3789.783     -0.115      0.909   -7862.388    6994.142\n",
            "X[2]         185.1560      4.517     40.995      0.000     176.303     194.009\n",
            "X[3]          -0.3154      0.056     -5.630      0.000      -0.425      -0.206\n",
            "X[4]       -3.607e+04   3888.694     -9.274      0.000   -4.37e+04   -2.84e+04\n",
            "X[5]         4.14e+05   2.77e+04     14.941      0.000     3.6e+05    4.68e+05\n",
            "X[6]        9.955e+04   2768.598     35.958      0.000    9.41e+04    1.05e+05\n",
            "X[7]          24.6249      4.652      5.293      0.000      15.506      33.743\n",
            "==============================================================================\n",
            "\n",
            "The condition number is large, 5.23e+05. This might indicate that there are\n",
            "strong multicollinearity or other numerical problems.\n"
          ]
        },
        {
          "output_type": "stream",
          "name": "stderr",
          "text": [
            "/usr/local/lib/python3.7/dist-packages/statsmodels/regression/quantile_regression.py:192: IterationLimitWarning: Maximum number of iterations (1000) reached.\n",
            "  \") reached.\", IterationLimitWarning)\n"
          ]
        }
      ]
    },
    {
      "cell_type": "markdown",
      "metadata": {
        "id": "Pbo9hNsh8NU-"
      },
      "source": [
        "####Ridge Regression"
      ]
    },
    {
      "cell_type": "code",
      "metadata": {
        "id": "wewZB8NM8R0K"
      },
      "source": [
        "from sklearn.linear_model import Ridge\n",
        "from sklearn.model_selection import GridSearchCV\n",
        "from sklearn.metrics import mean_squared_error"
      ],
      "execution_count": null,
      "outputs": []
    },
    {
      "cell_type": "code",
      "metadata": {
        "id": "35Q3klCK8SKT"
      },
      "source": [
        "#separating dependent from independent variables\n",
        "\n",
        "X = house_prices.drop(['price','grade','sqft_living15'],axis=1)\n",
        "y = house_prices.iloc[:,0]"
      ],
      "execution_count": null,
      "outputs": []
    },
    {
      "cell_type": "code",
      "metadata": {
        "id": "pv_auN9j8STl"
      },
      "source": [
        "#fittingour ridge model\n",
        "\n",
        "ridge = Ridge(normalize=True)\n",
        "search = GridSearchCV(estimator=ridge,param_grid={'alpha':np.logspace(-10,2,5)},scoring='neg_mean_squared_error',n_jobs=1,refit=True,cv=10)"
      ],
      "execution_count": null,
      "outputs": []
    },
    {
      "cell_type": "code",
      "metadata": {
        "colab": {
          "base_uri": "https://localhost:8080/"
        },
        "id": "X53a1-eL8Soa",
        "outputId": "b0ac5368-744a-4464-c134-109770d9a04b"
      },
      "source": [
        "#best params\n",
        "search.fit(X,y)\n",
        "search.best_params_"
      ],
      "execution_count": null,
      "outputs": [
        {
          "output_type": "execute_result",
          "data": {
            "text/plain": [
              "{'alpha': 0.0001}"
            ]
          },
          "metadata": {},
          "execution_count": 111
        }
      ]
    },
    {
      "cell_type": "code",
      "metadata": {
        "colab": {
          "base_uri": "https://localhost:8080/"
        },
        "id": "XsiqKarr_E5Q",
        "outputId": "7ced02ca-45bc-4317-ea03-3c1e8efbcf85"
      },
      "source": [
        "#\n",
        "{'alpha': 0.0001}\n",
        "abs(search.best_score_) "
      ],
      "execution_count": null,
      "outputs": [
        {
          "output_type": "execute_result",
          "data": {
            "text/plain": [
              "54954473769.945435"
            ]
          },
          "metadata": {},
          "execution_count": 112
        }
      ]
    },
    {
      "cell_type": "code",
      "metadata": {
        "colab": {
          "base_uri": "https://localhost:8080/"
        },
        "id": "RseHXO4UCdIQ",
        "outputId": "9f5e410b-4253-4959-ffb9-774ab809c6b4"
      },
      "source": [
        "#fit the model with the ridge info and find the mean squared error\n",
        "ridge = Ridge(normalize = True, alpha=0.0001)\n",
        "ridge.fit(X, y)\n",
        "model = (mean_squared_error(y_test, y_pred))\n",
        "model"
      ],
      "execution_count": null,
      "outputs": [
        {
          "output_type": "execute_result",
          "data": {
            "text/plain": [
              "750538031243.1796"
            ]
          },
          "metadata": {},
          "execution_count": 113
        }
      ]
    },
    {
      "cell_type": "code",
      "metadata": {
        "colab": {
          "base_uri": "https://localhost:8080/"
        },
        "id": "6dHtsCERIS1s",
        "outputId": "309e9c6a-7831-4db6-98ba-b76f82dbbe1f"
      },
      "source": [
        "reg.score(X_test, y_test)"
      ],
      "execution_count": null,
      "outputs": [
        {
          "output_type": "execute_result",
          "data": {
            "text/plain": [
              "-4.6112593451838455"
            ]
          },
          "metadata": {},
          "execution_count": 114
        }
      ]
    },
    {
      "cell_type": "code",
      "metadata": {
        "colab": {
          "base_uri": "https://localhost:8080/"
        },
        "id": "GcPNou7jDPzL",
        "outputId": "41a73123-6b6d-4eb8-e29b-e68dfb018ee0"
      },
      "source": [
        "#Checking coefficients\n",
        "coef_dict_baseline = {}\n",
        "for coef, feat in zip(reg.coef_,house_prices.columns):\n",
        "    coef_dict_baseline[feat] = coef\n",
        "coef_dict_baseline"
      ],
      "execution_count": null,
      "outputs": [
        {
          "output_type": "execute_result",
          "data": {
            "text/plain": [
              "{'bathrooms': 178.67827089702587,\n",
              " 'bedrooms': 35410.786735998205,\n",
              " 'condition': 96.28866513566936,\n",
              " 'floors': 553005.6521455552,\n",
              " 'grade': 82.38960593798674,\n",
              " 'price': -58205.62442104741,\n",
              " 'sqft_above': -0.6496922364531201,\n",
              " 'sqft_living': -0.09747206667452701,\n",
              " 'sqft_lot': 7450.579379976891,\n",
              " 'view': 46810.73568695389,\n",
              " 'waterfront': 72132.95670286786}"
            ]
          },
          "metadata": {},
          "execution_count": 70
        }
      ]
    },
    {
      "cell_type": "code",
      "metadata": {
        "colab": {
          "base_uri": "https://localhost:8080/"
        },
        "id": "S7yRaQjz8SOJ",
        "outputId": "bfb1d5d1-ae44-44ff-d11d-a72d70e84835"
      },
      "source": [
        "model1_mse = (mean_squared_error(y_test,y_pred))\n",
        "model1_mse"
      ],
      "execution_count": null,
      "outputs": [
        {
          "output_type": "execute_result",
          "data": {
            "text/plain": [
              "750538031243.1796"
            ]
          },
          "metadata": {},
          "execution_count": 115
        }
      ]
    },
    {
      "cell_type": "markdown",
      "metadata": {
        "id": "ulaHGoeUDs90"
      },
      "source": [
        "####Lasso Regression"
      ]
    },
    {
      "cell_type": "code",
      "metadata": {
        "id": "URnPn0Sp8R8F"
      },
      "source": [
        "import warnings\n",
        "warnings.filterwarnings(\"ignore\")"
      ],
      "execution_count": null,
      "outputs": []
    },
    {
      "cell_type": "code",
      "metadata": {
        "id": "A6k8FDXx8Rw2"
      },
      "source": [
        "#X and y\n",
        "X = house_prices.drop(['price','grade','sqft_living15'],axis=1)\n",
        "y = house_prices.iloc[:,0]"
      ],
      "execution_count": null,
      "outputs": []
    },
    {
      "cell_type": "code",
      "metadata": {
        "id": "UtDuXkUcFgd_"
      },
      "source": [
        "#Standadizing features\n",
        "scaler = StandardScaler()\n",
        "X = scaler.fit_transform(X)"
      ],
      "execution_count": null,
      "outputs": []
    },
    {
      "cell_type": "code",
      "metadata": {
        "id": "xvuGj0X8EM7C"
      },
      "source": [
        "\n",
        "#splitting train and test\n",
        "X_train, X_test, y_train, y_test = train_test_split(X, y, test_size=0.2, random_state=25)\n"
      ],
      "execution_count": null,
      "outputs": []
    },
    {
      "cell_type": "code",
      "metadata": {
        "colab": {
          "base_uri": "https://localhost:8080/"
        },
        "id": "KhIcia6HEUA6",
        "outputId": "b8d19ba2-859f-49ce-b931-7b79924bcfb4"
      },
      "source": [
        "parameters = {'alpha': np.concatenate((np.arange(0.1,2,0.1), np.arange(2, 5, 0.5), np.arange(5, 25, 1)))}\n",
        "\n",
        "linear = linear_model.LinearRegression()\n",
        "lasso = linear_model.Lasso() \n",
        "gridlasso = GridSearchCV(lasso, parameters, scoring ='r2') \n",
        "\n",
        "# Fitting models and print the best parameters, R-squared scores, MSE, and coefficients\n",
        "gridlasso.fit(X_train, y_train) \n",
        "linear.fit(X_train, y_train) \n",
        "print(\"lasso best parameters:\", gridlasso.best_params_) \n",
        "print(\"lasso score:\", gridlasso.score(X_test, y_test))\n",
        "print(\"linear score:\", linear.score(X_test, y_test)) \n",
        "print(\"lasso MSE:\", mean_squared_error(y_test, gridlasso.predict(X_test)))\n",
        "print(\"linear MSE:\", mean_squared_error(y_test, linear.predict(X_test))) \n",
        "print(\"lasso best estimator coef:\", gridlasso.best_estimator_.coef_)\n",
        "print(\"linear coef:\", linear.coef_)"
      ],
      "execution_count": null,
      "outputs": [
        {
          "output_type": "stream",
          "name": "stdout",
          "text": [
            "lasso best parameters: {'alpha': 24.0}\n",
            "lasso score: 0.5641660680278977\n",
            "linear score: 0.5641692665343185\n",
            "lasso MSE: 58295281171.07519\n",
            "linear MSE: 58294853352.54743\n",
            "lasso best estimator coef: [-45363.49903763  23029.62152862 234517.16720876   -627.40658601\n",
            "   5352.65970377  48792.58779601  53743.99592534  30798.65808464\n",
            "   8544.17668032   -914.96746303 -20804.41036903]\n",
            "linear coef: [-45413.58103511  23068.72391053 124949.27003916   -648.25796722\n",
            "   5345.15604037  48806.89075564  53759.12189441  30837.68401072\n",
            " 108723.7859458   52468.39371358 -20822.4148314 ]\n"
          ]
        }
      ]
    },
    {
      "cell_type": "markdown",
      "metadata": {
        "id": "XBVgP24TaYJN"
      },
      "source": [
        "######None of the coefficients were shrunk to zero.Chances are that all the variables were important for the study."
      ]
    },
    {
      "cell_type": "code",
      "metadata": {
        "colab": {
          "base_uri": "https://localhost:8080/"
        },
        "id": "SYh8Jzy60O0H",
        "outputId": "64baf18b-5ce6-4074-f201-c158fb63b998"
      },
      "source": [
        "# calculating mse\n",
        "\n",
        "mse = np.mean((y_pred - y_test)**2)\n",
        "mse"
      ],
      "execution_count": null,
      "outputs": [
        {
          "output_type": "execute_result",
          "data": {
            "text/plain": [
              "750538031243.1787"
            ]
          },
          "metadata": {},
          "execution_count": 102
        }
      ]
    },
    {
      "cell_type": "code",
      "metadata": {
        "colab": {
          "base_uri": "https://localhost:8080/"
        },
        "id": "tCyhbmiA0SvY",
        "outputId": "3b4fd54e-23fd-4389-a8a0-1345695caf76"
      },
      "source": [
        "#R square\n",
        "gridlasso.score(X_test,y_test)"
      ],
      "execution_count": null,
      "outputs": [
        {
          "output_type": "execute_result",
          "data": {
            "text/plain": [
              "0.5641660680278977"
            ]
          },
          "metadata": {},
          "execution_count": 80
        }
      ]
    },
    {
      "cell_type": "markdown",
      "metadata": {
        "id": "kJZt4XFYcjqz"
      },
      "source": [
        "###Elastic Net Regression"
      ]
    },
    {
      "cell_type": "code",
      "metadata": {
        "id": "mg8ovyuHcnTC"
      },
      "source": [
        "#X and y\n",
        "X = house_prices.drop(['price','grade','sqft_living15'],axis=1)\n",
        "y = house_prices.iloc[:,0]"
      ],
      "execution_count": null,
      "outputs": []
    },
    {
      "cell_type": "code",
      "metadata": {
        "id": "9zTi3REicna5"
      },
      "source": [
        "#Elastic Net model\n",
        "#\n",
        "elastic=ElasticNet(normalize=True)\n",
        "search=GridSearchCV(estimator=elastic,param_grid={'alpha':np.logspace(-5,2,8),'l1_ratio':[.2,.4,.6,.8]},scoring='neg_mean_squared_error',n_jobs=1,refit=True,cv=10)"
      ],
      "execution_count": null,
      "outputs": []
    },
    {
      "cell_type": "code",
      "metadata": {
        "colab": {
          "base_uri": "https://localhost:8080/"
        },
        "id": "M0aSGAM1cnuD",
        "outputId": "8154cd19-1be8-46f0-f3c7-321d9b8ec563"
      },
      "source": [
        "#fit model and show best params\n",
        "search.fit(X,y)\n",
        "search.best_params_"
      ],
      "execution_count": null,
      "outputs": [
        {
          "output_type": "execute_result",
          "data": {
            "text/plain": [
              "{'alpha': 1e-05, 'l1_ratio': 0.8}"
            ]
          },
          "metadata": {},
          "execution_count": 83
        }
      ]
    },
    {
      "cell_type": "code",
      "metadata": {
        "colab": {
          "base_uri": "https://localhost:8080/"
        },
        "id": "bA_YOmERco2L",
        "outputId": "6e19a35a-e636-4eb8-9101-6a2d7840bc71"
      },
      "source": [
        "#best scores\n",
        "abs(search.best_score_)"
      ],
      "execution_count": null,
      "outputs": [
        {
          "output_type": "execute_result",
          "data": {
            "text/plain": [
              "54995216045.58793"
            ]
          },
          "metadata": {},
          "execution_count": 84
        }
      ]
    },
    {
      "cell_type": "code",
      "metadata": {
        "colab": {
          "base_uri": "https://localhost:8080/"
        },
        "id": "QM6wmrhmcnX9",
        "outputId": "f1ebf2d1-e567-4f69-83a3-48d31412367a"
      },
      "source": [
        "#fitting model to X and y \n",
        "elastic=ElasticNet(normalize=True,alpha=1e-05,l1_ratio=0.8)\n",
        "elastic.fit(X_train,y_train)\n"
      ],
      "execution_count": null,
      "outputs": [
        {
          "output_type": "execute_result",
          "data": {
            "text/plain": [
              "ElasticNet(alpha=1e-05, copy_X=True, fit_intercept=True, l1_ratio=0.8,\n",
              "           max_iter=1000, normalize=True, positive=False, precompute=False,\n",
              "           random_state=None, selection='cyclic', tol=0.0001, warm_start=False)"
            ]
          },
          "metadata": {},
          "execution_count": 85
        }
      ]
    },
    {
      "cell_type": "code",
      "metadata": {
        "colab": {
          "base_uri": "https://localhost:8080/"
        },
        "id": "CnO5xi3Hp23o",
        "outputId": "8af56d30-8728-4f5c-8b67-dc1d415e21ea"
      },
      "source": [
        "mse=np.mean((y_pred - y_test)**2)\n",
        "mse"
      ],
      "execution_count": null,
      "outputs": [
        {
          "output_type": "execute_result",
          "data": {
            "text/plain": [
              "750538031243.1787"
            ]
          },
          "metadata": {},
          "execution_count": 103
        }
      ]
    },
    {
      "cell_type": "code",
      "metadata": {
        "colab": {
          "base_uri": "https://localhost:8080/"
        },
        "id": "3UK8qhbzcnMG",
        "outputId": "9dac4225-013c-41e2-d47c-797b3c3b5362"
      },
      "source": [
        "#Checking out the coefficients\n",
        "coef_dict_baseline = {}\n",
        "for coef, feat in zip(elastic.coef_,X.columns):\n",
        "    coef_dict_baseline[feat] = coef\n",
        "coef_dict_baseline"
      ],
      "execution_count": null,
      "outputs": [
        {
          "output_type": "execute_result",
          "data": {
            "text/plain": [
              "{'bathrooms': 25686.79151231179,\n",
              " 'bedrooms': -39782.07230455063,\n",
              " 'condition': 29538.96813504603,\n",
              " 'floors': 6324.314330236459,\n",
              " 'sqft_above': 103776.68380791595,\n",
              " 'sqft_basement': 50621.69013768757,\n",
              " 'sqft_living': 120142.77170968574,\n",
              " 'sqft_lot': -919.144774000618,\n",
              " 'sqft_lot15': -18529.425674492755,\n",
              " 'view': 53935.96498217382,\n",
              " 'waterfront': 47983.133627230796}"
            ]
          },
          "metadata": {},
          "execution_count": 88
        }
      ]
    },
    {
      "cell_type": "markdown",
      "metadata": {
        "id": "yFV4KiIVmgbZ"
      },
      "source": [
        "####Residual Plots"
      ]
    },
    {
      "cell_type": "code",
      "metadata": {
        "id": "Sjh5AsMon6fZ"
      },
      "source": [
        "#creating residuals\n",
        "residuals = np.subtract(lin1_pred, lin1y_test)"
      ],
      "execution_count": null,
      "outputs": []
    },
    {
      "cell_type": "code",
      "metadata": {
        "colab": {
          "base_uri": "https://localhost:8080/",
          "height": 297
        },
        "id": "nCUwwCDbn6Gx",
        "outputId": "dc490f9c-f761-4841-8688-323b74b41005"
      },
      "source": [
        "#Describing residuals\n",
        "pd.DataFrame(residuals).describe()\n"
      ],
      "execution_count": null,
      "outputs": [
        {
          "output_type": "execute_result",
          "data": {
            "text/html": [
              "<div>\n",
              "<style scoped>\n",
              "    .dataframe tbody tr th:only-of-type {\n",
              "        vertical-align: middle;\n",
              "    }\n",
              "\n",
              "    .dataframe tbody tr th {\n",
              "        vertical-align: top;\n",
              "    }\n",
              "\n",
              "    .dataframe thead th {\n",
              "        text-align: right;\n",
              "    }\n",
              "</style>\n",
              "<table border=\"1\" class=\"dataframe\">\n",
              "  <thead>\n",
              "    <tr style=\"text-align: right;\">\n",
              "      <th></th>\n",
              "      <th>0</th>\n",
              "    </tr>\n",
              "  </thead>\n",
              "  <tbody>\n",
              "    <tr>\n",
              "      <th>count</th>\n",
              "      <td>4.212000e+03</td>\n",
              "    </tr>\n",
              "    <tr>\n",
              "      <th>mean</th>\n",
              "      <td>4.669579e+03</td>\n",
              "    </tr>\n",
              "    <tr>\n",
              "      <th>std</th>\n",
              "      <td>2.292895e+05</td>\n",
              "    </tr>\n",
              "    <tr>\n",
              "      <th>min</th>\n",
              "      <td>-2.780852e+06</td>\n",
              "    </tr>\n",
              "    <tr>\n",
              "      <th>25%</th>\n",
              "      <td>-9.770014e+04</td>\n",
              "    </tr>\n",
              "    <tr>\n",
              "      <th>50%</th>\n",
              "      <td>2.201939e+04</td>\n",
              "    </tr>\n",
              "    <tr>\n",
              "      <th>75%</th>\n",
              "      <td>1.353788e+05</td>\n",
              "    </tr>\n",
              "    <tr>\n",
              "      <th>max</th>\n",
              "      <td>9.875625e+05</td>\n",
              "    </tr>\n",
              "  </tbody>\n",
              "</table>\n",
              "</div>"
            ],
            "text/plain": [
              "                  0\n",
              "count  4.212000e+03\n",
              "mean   4.669579e+03\n",
              "std    2.292895e+05\n",
              "min   -2.780852e+06\n",
              "25%   -9.770014e+04\n",
              "50%    2.201939e+04\n",
              "75%    1.353788e+05\n",
              "max    9.875625e+05"
            ]
          },
          "metadata": {},
          "execution_count": 90
        }
      ]
    },
    {
      "cell_type": "code",
      "metadata": {
        "colab": {
          "base_uri": "https://localhost:8080/"
        },
        "id": "9MqlFrven51x",
        "outputId": "f7395963-92bc-4f7b-fe8b-e6f900541326"
      },
      "source": [
        "#Finding mean\n",
        "residuals.mean()"
      ],
      "execution_count": null,
      "outputs": [
        {
          "output_type": "execute_result",
          "data": {
            "text/plain": [
              "4669.578744943004"
            ]
          },
          "metadata": {},
          "execution_count": 91
        }
      ]
    },
    {
      "cell_type": "code",
      "metadata": {
        "colab": {
          "base_uri": "https://localhost:8080/",
          "height": 290
        },
        "id": "SyzGTdz9o2gd",
        "outputId": "f8966072-36e6-4724-df9e-1ea96c2be03a"
      },
      "source": [
        "#Plotting residuals\n",
        "plt.scatter(y_pred, residuals, color='black')\n",
        "plt.ylabel('residuals')\n",
        "plt.xlabel('fitted values')\n",
        "plt.axhline(y= residuals.mean(), color='red', linewidth=1)\n",
        "plt.show()"
      ],
      "execution_count": null,
      "outputs": [
        {
          "output_type": "display_data",
          "data": {
            "image/png": "[encoded data removed]",
            "text/plain": [
              "<Figure size 432x288 with 1 Axes>"
            ]
          },
          "metadata": {
            "needs_background": "light"
          }
        }
      ]
    },
    {
      "cell_type": "markdown",
      "metadata": {
        "id": "4inYQKp6nfal"
      },
      "source": [
        "####Checking for heteroskedasticity "
      ]
    },
    {
      "cell_type": "markdown",
      "metadata": {
        "id": "tMB3vXgbrfRI"
      },
      "source": [
        "######It is the variability of a given dependent variable unequal or even across the range of values of an independent variable that predicts it."
      ]
    },
    {
      "cell_type": "code",
      "metadata": {
        "id": "HFBxB3Tmn_EE"
      },
      "source": [
        "import scipy as sp\n",
        "\n",
        "test_result, p_value = sp.stats.bartlett(lin1_pred, residuals)\n"
      ],
      "execution_count": null,
      "outputs": []
    },
    {
      "cell_type": "code",
      "metadata": {
        "id": "nDqapkcsr9Su",
        "colab": {
          "base_uri": "https://localhost:8080/"
        },
        "outputId": "61c69856-4016-452a-d48e-49149dee0be1"
      },
      "source": [
        "#preicting critical value\n",
        "\n",
        "degree_of_freedom = len(y_pred) - 1\n",
        "probability = 1-p_value\n",
        "\n",
        "critical_value = sp.stats.chi2.ppf(probability, degree_of_freedom)\n",
        "critical_value"
      ],
      "execution_count": null,
      "outputs": [
        {
          "output_type": "execute_result",
          "data": {
            "text/plain": [
              "inf"
            ]
          },
          "metadata": {},
          "execution_count": 105
        }
      ]
    },
    {
      "cell_type": "code",
      "metadata": {
        "colab": {
          "base_uri": "https://localhost:8080/"
        },
        "id": "-K2l-63tr9V5",
        "outputId": "b45357a5-4ac5-4e09-88f0-a25e225465aa"
      },
      "source": [
        "#if test result is greater than critical value we reject null hypothesis\n",
        "if (test_result > critical_value):\n",
        "  print('the variances are unequal, and the model should be reassessed')\n",
        "else:\n",
        "  print('the variances are homogeneous!')\n",
        "\n",
        "\n"
      ],
      "execution_count": null,
      "outputs": [
        {
          "output_type": "stream",
          "name": "stdout",
          "text": [
            "the variances are homogeneous!\n"
          ]
        }
      ]
    },
    {
      "cell_type": "markdown",
      "metadata": {
        "id": "PDHN_vOUpKPK"
      },
      "source": [
        "###Challenging the solution\n",
        "######The features in the study were all not that collinear or had relations to each other so linear model was just the best to use to make predictions."
      ]
    }
  ]
}